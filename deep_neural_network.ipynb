{
 "cells": [
  {
   "cell_type": "code",
   "execution_count": 1,
   "metadata": {
    "collapsed": false
   },
   "outputs": [],
   "source": [
    "import os\n",
    "import numpy as np\n",
    "import pandas as pd\n",
    "from scipy.misc import imread\n",
    "from sklearn.metrics import accuracy_score\n",
    "from sklearn.model_selection import train_test_split\n",
    "import tensorflow as tf\n",
    "import fuzzy_classification as fc"
   ]
  },
  {
   "cell_type": "code",
   "execution_count": 2,
   "metadata": {
    "collapsed": false
   },
   "outputs": [],
   "source": [
    "traindata_df = fc.traindata_df\n",
    "target_df = fc.target_df"
   ]
  },
  {
   "cell_type": "code",
   "execution_count": 3,
   "metadata": {
    "collapsed": true
   },
   "outputs": [],
   "source": [
    "# To stop potential randomness\n",
    "seed = 50\n",
    "rng = np.random.RandomState(seed)\n",
    "#print ('rng : ', rng)"
   ]
  },
  {
   "cell_type": "code",
   "execution_count": 4,
   "metadata": {
    "collapsed": false
   },
   "outputs": [
    {
     "name": "stdout",
     "output_type": "stream",
     "text": [
      "False\n"
     ]
    },
    {
     "data": {
      "text/plain": [
       "'\\ntrain_x, val_x = train_x[: split_size], train_x[split_size : ]\\ntarget_y, val_y = target_y[: split_size], target_y[split_size : ]\\n\\nprint (\\'Train_x.shape : \\', train_x.shape, \"val_x.shape : \", val_x.shape)\\nprint (\\'target_y.shape : \\', target_y.shape, \"val_y.shape : \", val_y.shape)\\n'"
      ]
     },
     "execution_count": 4,
     "metadata": {},
     "output_type": "execute_result"
    }
   ],
   "source": [
    "random_seed = 25\n",
    "train_x = traindata_df.values\n",
    "target_y = target_df.values\n",
    "\n",
    "#split_size = int(train_x.shape[0] * 0.7)\n",
    "train_x, val_x, target_y, val_y = train_test_split(\n",
    "        train_x, target_y, test_size=0.33, random_state=random_seed)\n",
    "\n",
    "train_xx, val_xx, target_yy, val_yy = train_test_split(\n",
    "        train_x, target_y, test_size=0.33, random_state=random_seed)\n",
    "\n",
    "is_equalv = np.array_equiv(val_y, val_yy)\n",
    "print (is_equalv)\n",
    "\"\"\"\n",
    "train_x, val_x = train_x[: split_size], train_x[split_size : ]\n",
    "target_y, val_y = target_y[: split_size], target_y[split_size : ]\n",
    "\n",
    "print ('Train_x.shape : ', train_x.shape, \"val_x.shape : \", val_x.shape)\n",
    "print ('target_y.shape : ', target_y.shape, \"val_y.shape : \", val_y.shape)\n",
    "\"\"\""
   ]
  },
  {
   "cell_type": "code",
   "execution_count": 5,
   "metadata": {
    "collapsed": true
   },
   "outputs": [],
   "source": [
    "def dense_to_one_hot(labels_dense, num_classes=11):\n",
    "    \"\"\"Convert class labels from scalars to one-hot vectors\"\"\"\n",
    "    num_labels = labels_dense.shape[0]\n",
    "    #print ('num_labels : ', num_labels)\n",
    "    index_offset = np.arange(num_labels) * num_classes\n",
    "    #print ('index_offset : ', index_offset)\n",
    "    #print ('index_offset->shape : ', index_offset.shape)\n",
    "    labels_one_hot = np.zeros((num_labels, num_classes))\n",
    "    #print ('1st labels_one_hot : ', labels_one_hot)\n",
    "    #print ('1st labels_one_hot->shape : ', labels_one_hot.shape)\n",
    "    #print ('labels_dense.ravel() : ', labels_dense.ravel())\n",
    "    #print ('index_offset + labels_dense.ravel() : ', index_offset + labels_dense.ravel())\n",
    "    labels_one_hot.flat[index_offset.astype(int) + labels_dense.ravel().astype(int)] = 1\n",
    "    #print ('flat : ', labels_one_hot.flat[99])\n",
    "    #print ('2nd labels_one_hot : ', labels_one_hot)\n",
    "    #print ('2nd labels_one_hot->shape : ', labels_one_hot.shape)\n",
    "    \n",
    "    return labels_one_hot"
   ]
  },
  {
   "cell_type": "code",
   "execution_count": 6,
   "metadata": {
    "collapsed": true
   },
   "outputs": [],
   "source": [
    "def preproc(unclean_batch_x):\n",
    "    \"\"\"Convert values to range 0-1\"\"\"\n",
    "    #print ('unclean_batch_x : ', unclean_batch_x)\n",
    "    #print ('unclean_batch_x->shape : ', unclean_batch_x.shape)\n",
    "    #print ('unclean_batch_x.max() : ', unclean_batch_x.max())\n",
    "    #temp_batch = unclean_batch_x / unclean_batch_x.max()\n",
    "    temp_batch = unclean_batch_x\n",
    "    #print ('temp_batch : ', temp_batch)\n",
    "    #print ('temp_batch->shape : ', temp_batch.shape)\n",
    "    \n",
    "    return temp_batch"
   ]
  },
  {
   "cell_type": "code",
   "execution_count": 7,
   "metadata": {
    "collapsed": true
   },
   "outputs": [],
   "source": [
    "def batch_creator(batch_size, dataset_length, step_name):\n",
    "    \"\"\"Create batch with random samples and return appropriate format\"\"\"\n",
    "    #print ('batch_size : ', batch_size)\n",
    "    #print ('dataset_length : ', dataset_length)\n",
    "    \n",
    "    batch_mask = rng.choice(dataset_length, batch_size)\n",
    "    #print ('batch_mask : ', batch_mask)\n",
    "    #print ('batch_mask->shape : ', batch_mask.shape)\n",
    "    \n",
    "    batch_x = train_x[[batch_mask]].reshape(-1, 28)\n",
    "    #print ('eval(dataset_name + _x)[[batch_mask]] : ', eval(dataset_name + '_x')[[batch_mask]])\n",
    "    #print ('eval(dataset_name + _x)[[batch_mask]]->shape : ', eval(dataset_name + '_x')[[batch_mask]].shape)\n",
    "\n",
    "    #print ('batch_x : ', batch_x)\n",
    "    #print ('batch_x->shape : ', batch_x.shape)\n",
    "    \n",
    "    batch_x = preproc(batch_x)\n",
    "    #print ('batch_x after preproc : ', batch_x)\n",
    "    #print ('batch_x after preproc->shape : ', batch_x.shape)\n",
    "    \n",
    "    if step_name == 'train':\n",
    "        batch_y = target_y[batch_mask]\n",
    "        #print ('batch_y : ', batch_y)\n",
    "        #print ('batch_y->shape : ', batch_y.shape)\n",
    "        batch_y = dense_to_one_hot(batch_y)\n",
    "        #print ('batch_y after one-hot : ', batch_y)\n",
    "        #print ('batch_y after one-hot->shape : ', batch_y.shape)\n",
    "        \n",
    "    return batch_x, batch_y"
   ]
  },
  {
   "cell_type": "code",
   "execution_count": 8,
   "metadata": {
    "collapsed": false
   },
   "outputs": [
    {
     "name": "stdout",
     "output_type": "stream",
     "text": [
      "(50, 28)\n",
      "(50, 11)\n"
     ]
    }
   ],
   "source": [
    "batch_size = 50\n",
    "batch_x, batch_y = batch_creator(batch_size, train_x.shape[0], 'train')\n",
    "print (batch_x.shape)\n",
    "print (batch_y.shape)"
   ]
  },
  {
   "cell_type": "code",
   "execution_count": 9,
   "metadata": {
    "collapsed": true
   },
   "outputs": [],
   "source": [
    "### set all variables\n",
    "\n",
    "# number of neurons in each layer\n",
    "input_num_units = 28\n",
    "n_units_hl1 = 500\n",
    "n_units_hl2 = 500\n",
    "n_units_hl3 = 500\n",
    "n_units_hl4 = 500\n",
    "n_units_hl5 = 500\n",
    "n_units_hl6 = 500\n",
    "n_units_hl7 = 500\n",
    "\n",
    "n_classes = 11\n",
    "output_num_units = 11\n",
    "learning_rate = 0.01\n",
    "\n",
    "# define placeholders\n",
    "x = tf.placeholder('float', [None, input_num_units])\n",
    "y = tf.placeholder('float', [None, output_num_units])\n",
    "keep_prob = tf.placeholder('float')\n",
    "# set remaining variables\n",
    "epochs = 7\n",
    "batch_size = 50\n",
    "\n",
    "### define weights and biases of the neural network\n",
    "\n",
    "weights = {\n",
    "    'hidden_1' : tf.Variable(tf.random_normal([input_num_units, n_units_hl1], seed=seed)),\n",
    "    'hidden_2' : tf.Variable(tf.random_normal([n_units_hl1, n_units_hl2], seed=seed)),\n",
    "    'hidden_3' : tf.Variable(tf.random_normal([n_units_hl2, n_units_hl3], seed=seed)),\n",
    "    'hidden_4' : tf.Variable(tf.random_normal([n_units_hl3, n_units_hl4], seed=seed)),\n",
    "    'hidden_5' : tf.Variable(tf.random_normal([n_units_hl4, n_units_hl5], seed=seed)),\n",
    "    'hidden_6' : tf.Variable(tf.random_normal([n_units_hl5, n_units_hl6], seed=seed)),\n",
    "    'hidden_7' : tf.Variable(tf.random_normal([n_units_hl6, n_units_hl7], seed=seed)),\n",
    "    ######## for  Hidden Layer\n",
    "    'output' : tf.Variable(tf.random_normal([n_units_hl2, output_num_units], seed=seed))\n",
    "}\n",
    "\n",
    "biases = {\n",
    "    'hidden_1' : tf.Variable(tf.random_normal([n_units_hl1], seed=seed)),\n",
    "    'hidden_2' : tf.Variable(tf.random_normal([n_units_hl2], seed=seed)),\n",
    "    'hidden_3' : tf.Variable(tf.random_normal([n_units_hl3], seed=seed)),\n",
    "    'hidden_4' : tf.Variable(tf.random_normal([n_units_hl4], seed=seed)),\n",
    "    'hidden_5' : tf.Variable(tf.random_normal([n_units_hl5], seed=seed)),\n",
    "    'hidden_6' : tf.Variable(tf.random_normal([n_units_hl6], seed=seed)),\n",
    "    'hidden_7' : tf.Variable(tf.random_normal([n_units_hl7], seed=seed)),\n",
    "\n",
    "    'output' : tf.Variable(tf.random_normal([output_num_units], seed=seed))\n",
    "}"
   ]
  },
  {
   "cell_type": "code",
   "execution_count": 10,
   "metadata": {
    "collapsed": false
   },
   "outputs": [],
   "source": [
    "### create neural network computational graph\n",
    "\n",
    "hidden_layer_1 = tf.add(tf.matmul(x, weights['hidden_1']), biases['hidden_1'])\n",
    "hidden_layer_1 = tf.nn.relu(hidden_layer_1)\n",
    "hidden_layer_1 = tf.nn.dropout(hidden_layer_1, keep_prob)\n",
    "\n",
    "hidden_layer_2 = tf.add(tf.matmul(hidden_layer_1, weights['hidden_2']), biases['hidden_2'])\n",
    "hidden_layer_2 = tf.nn.relu(hidden_layer_2)\n",
    "hidden_layer_2 = tf.nn.dropout(hidden_layer_2, keep_prob)\n",
    "\n",
    "\"\"\"\n",
    "hidden_layer_3 = tf.add(tf.matmul(hidden_layer_2, weights['hidden_3']), biases['hidden_3'])\n",
    "hidden_layer_3 = tf.nn.relu(hidden_layer_3)\n",
    "hidden_layer_3 = tf.nn.dropout(hidden_layer_3, keep_prob)\n",
    "\n",
    "hidden_layer_4 = tf.add(tf.matmul(hidden_layer_3, weights['hidden_4']), biases['hidden_4'])\n",
    "hidden_layer_4 = tf.nn.relu(hidden_layer_4)\n",
    "hidden_layer_4 = tf.nn.dropout(hidden_layer_4, keep_prob)\n",
    "\n",
    "\n",
    "hidden_layer_5 = tf.add(tf.matmul(hidden_layer_4, weights['hidden_5']), biases['hidden_5'])\n",
    "hidden_layer_5 = tf.nn.relu(hidden_layer_5)\n",
    "hidden_layer_5 = tf.nn.dropout(hidden_layer_5, keep_prob)\n",
    "\n",
    "hidden_layer_6 = tf.add(tf.matmul(hidden_layer_5, weights['hidden_6']), biases['hidden_6'])\n",
    "hidden_layer_6 = tf.nn.relu(hidden_layer_6)\n",
    "hidden_layer_6 = tf.nn.dropout(hidden_layer_6, keep_prob)\n",
    "\n",
    "\n",
    "hidden_layer_7 = tf.add(tf.matmul(hidden_layer_6, weights['hidden_7']), biases['hidden_7'])\n",
    "hidden_layer_7 = tf.nn.relu(hidden_layer_7)\n",
    "hidden_layer_7 = tf.nn.dropout(hidden_layer_7, keep_prob)\n",
    "\n",
    "\"\"\"\n",
    "### for 7 Hidden layer\n",
    "output_layer = tf.matmul(hidden_layer_2, weights['output']) + biases['output']\n"
   ]
  },
  {
   "cell_type": "code",
   "execution_count": 11,
   "metadata": {
    "collapsed": true
   },
   "outputs": [],
   "source": [
    "### cost of neural network\n",
    "\n",
    "#cost = tf.reduce_mean(tf.nn.softmax_cross_entropy_with_logits(output_layer, y))\n",
    "### set optimizer. i.e backpropagation algorithm\n",
    "\n",
    "#optimizer = tf.train.AdamOptimizer(learning_rate=learning_rate).minimize(cost)\n",
    "## after defining neural network. initialize all the variables.\n",
    "\n",
    "#init = tf.initialize_all_variables()"
   ]
  },
  {
   "cell_type": "code",
   "execution_count": 16,
   "metadata": {
    "collapsed": false
   },
   "outputs": [
    {
     "ename": "InternalError",
     "evalue": "Blas GEMM launch failed : a.shape=(50, 28), b.shape=(28, 500), m=50, n=500, k=28\n\t [[Node: MatMul = MatMul[T=DT_FLOAT, transpose_a=false, transpose_b=false, _device=\"/job:localhost/replica:0/task:0/gpu:0\"](_recv_Placeholder_0/_9, Variable/read)]]\n\t [[Node: Mean_1/_17 = _Recv[client_terminated=false, recv_device=\"/job:localhost/replica:0/task:0/cpu:0\", send_device=\"/job:localhost/replica:0/task:0/gpu:0\", send_device_incarnation=1, tensor_name=\"edge_437_Mean_1\", tensor_type=DT_FLOAT, _device=\"/job:localhost/replica:0/task:0/cpu:0\"]()]]\n\nCaused by op 'MatMul', defined at:\n  File \"/usr/lib/python3.5/runpy.py\", line 184, in _run_module_as_main\n    \"__main__\", mod_spec)\n  File \"/usr/lib/python3.5/runpy.py\", line 85, in _run_code\n    exec(code, run_globals)\n  File \"/home/sumit/tensorflowGPU/lib/python3.5/site-packages/ipykernel/__main__.py\", line 3, in <module>\n    app.launch_new_instance()\n  File \"/home/sumit/tensorflowGPU/lib/python3.5/site-packages/traitlets/config/application.py\", line 658, in launch_instance\n    app.start()\n  File \"/home/sumit/tensorflowGPU/lib/python3.5/site-packages/ipykernel/kernelapp.py\", line 474, in start\n    ioloop.IOLoop.instance().start()\n  File \"/home/sumit/tensorflowGPU/lib/python3.5/site-packages/zmq/eventloop/ioloop.py\", line 177, in start\n    super(ZMQIOLoop, self).start()\n  File \"/home/sumit/tensorflowGPU/lib/python3.5/site-packages/tornado/ioloop.py\", line 887, in start\n    handler_func(fd_obj, events)\n  File \"/home/sumit/tensorflowGPU/lib/python3.5/site-packages/tornado/stack_context.py\", line 275, in null_wrapper\n    return fn(*args, **kwargs)\n  File \"/home/sumit/tensorflowGPU/lib/python3.5/site-packages/zmq/eventloop/zmqstream.py\", line 440, in _handle_events\n    self._handle_recv()\n  File \"/home/sumit/tensorflowGPU/lib/python3.5/site-packages/zmq/eventloop/zmqstream.py\", line 472, in _handle_recv\n    self._run_callback(callback, msg)\n  File \"/home/sumit/tensorflowGPU/lib/python3.5/site-packages/zmq/eventloop/zmqstream.py\", line 414, in _run_callback\n    callback(*args, **kwargs)\n  File \"/home/sumit/tensorflowGPU/lib/python3.5/site-packages/tornado/stack_context.py\", line 275, in null_wrapper\n    return fn(*args, **kwargs)\n  File \"/home/sumit/tensorflowGPU/lib/python3.5/site-packages/ipykernel/kernelbase.py\", line 276, in dispatcher\n    return self.dispatch_shell(stream, msg)\n  File \"/home/sumit/tensorflowGPU/lib/python3.5/site-packages/ipykernel/kernelbase.py\", line 228, in dispatch_shell\n    handler(stream, idents, msg)\n  File \"/home/sumit/tensorflowGPU/lib/python3.5/site-packages/ipykernel/kernelbase.py\", line 390, in execute_request\n    user_expressions, allow_stdin)\n  File \"/home/sumit/tensorflowGPU/lib/python3.5/site-packages/ipykernel/ipkernel.py\", line 196, in do_execute\n    res = shell.run_cell(code, store_history=store_history, silent=silent)\n  File \"/home/sumit/tensorflowGPU/lib/python3.5/site-packages/ipykernel/zmqshell.py\", line 501, in run_cell\n    return super(ZMQInteractiveShell, self).run_cell(*args, **kwargs)\n  File \"/home/sumit/tensorflowGPU/lib/python3.5/site-packages/IPython/core/interactiveshell.py\", line 2717, in run_cell\n    interactivity=interactivity, compiler=compiler, result=result)\n  File \"/home/sumit/tensorflowGPU/lib/python3.5/site-packages/IPython/core/interactiveshell.py\", line 2821, in run_ast_nodes\n    if self.run_code(code, result):\n  File \"/home/sumit/tensorflowGPU/lib/python3.5/site-packages/IPython/core/interactiveshell.py\", line 2881, in run_code\n    exec(code_obj, self.user_global_ns, self.user_ns)\n  File \"<ipython-input-10-07edb51fd11e>\", line 3, in <module>\n    hidden_layer_1 = tf.add(tf.matmul(x, weights['hidden_1']), biases['hidden_1'])\n  File \"/home/sumit/tensorflowGPU/lib/python3.5/site-packages/tensorflow/python/ops/math_ops.py\", line 1801, in matmul\n    a, b, transpose_a=transpose_a, transpose_b=transpose_b, name=name)\n  File \"/home/sumit/tensorflowGPU/lib/python3.5/site-packages/tensorflow/python/ops/gen_math_ops.py\", line 1263, in _mat_mul\n    transpose_b=transpose_b, name=name)\n  File \"/home/sumit/tensorflowGPU/lib/python3.5/site-packages/tensorflow/python/framework/op_def_library.py\", line 768, in apply_op\n    op_def=op_def)\n  File \"/home/sumit/tensorflowGPU/lib/python3.5/site-packages/tensorflow/python/framework/ops.py\", line 2336, in create_op\n    original_op=self._default_original_op, op_def=op_def)\n  File \"/home/sumit/tensorflowGPU/lib/python3.5/site-packages/tensorflow/python/framework/ops.py\", line 1228, in __init__\n    self._traceback = _extract_stack()\n\nInternalError (see above for traceback): Blas GEMM launch failed : a.shape=(50, 28), b.shape=(28, 500), m=50, n=500, k=28\n\t [[Node: MatMul = MatMul[T=DT_FLOAT, transpose_a=false, transpose_b=false, _device=\"/job:localhost/replica:0/task:0/gpu:0\"](_recv_Placeholder_0/_9, Variable/read)]]\n\t [[Node: Mean_1/_17 = _Recv[client_terminated=false, recv_device=\"/job:localhost/replica:0/task:0/cpu:0\", send_device=\"/job:localhost/replica:0/task:0/gpu:0\", send_device_incarnation=1, tensor_name=\"edge_437_Mean_1\", tensor_type=DT_FLOAT, _device=\"/job:localhost/replica:0/task:0/cpu:0\"]()]]\n",
     "output_type": "error",
     "traceback": [
      "\u001b[0;31m---------------------------------------------------------------------------\u001b[0m",
      "\u001b[0;31mInternalError\u001b[0m                             Traceback (most recent call last)",
      "\u001b[0;32m/home/sumit/tensorflowGPU/lib/python3.5/site-packages/tensorflow/python/client/session.py\u001b[0m in \u001b[0;36m_do_call\u001b[0;34m(self, fn, *args)\u001b[0m\n\u001b[1;32m   1038\u001b[0m     \u001b[0;32mtry\u001b[0m\u001b[0;34m:\u001b[0m\u001b[0;34m\u001b[0m\u001b[0m\n\u001b[0;32m-> 1039\u001b[0;31m       \u001b[0;32mreturn\u001b[0m \u001b[0mfn\u001b[0m\u001b[0;34m(\u001b[0m\u001b[0;34m*\u001b[0m\u001b[0margs\u001b[0m\u001b[0;34m)\u001b[0m\u001b[0;34m\u001b[0m\u001b[0m\n\u001b[0m\u001b[1;32m   1040\u001b[0m     \u001b[0;32mexcept\u001b[0m \u001b[0merrors\u001b[0m\u001b[0;34m.\u001b[0m\u001b[0mOpError\u001b[0m \u001b[0;32mas\u001b[0m \u001b[0me\u001b[0m\u001b[0;34m:\u001b[0m\u001b[0;34m\u001b[0m\u001b[0m\n",
      "\u001b[0;32m/home/sumit/tensorflowGPU/lib/python3.5/site-packages/tensorflow/python/client/session.py\u001b[0m in \u001b[0;36m_run_fn\u001b[0;34m(session, feed_dict, fetch_list, target_list, options, run_metadata)\u001b[0m\n\u001b[1;32m   1020\u001b[0m                                  \u001b[0mfeed_dict\u001b[0m\u001b[0;34m,\u001b[0m \u001b[0mfetch_list\u001b[0m\u001b[0;34m,\u001b[0m \u001b[0mtarget_list\u001b[0m\u001b[0;34m,\u001b[0m\u001b[0;34m\u001b[0m\u001b[0m\n\u001b[0;32m-> 1021\u001b[0;31m                                  status, run_metadata)\n\u001b[0m\u001b[1;32m   1022\u001b[0m \u001b[0;34m\u001b[0m\u001b[0m\n",
      "\u001b[0;32m/usr/lib/python3.5/contextlib.py\u001b[0m in \u001b[0;36m__exit__\u001b[0;34m(self, type, value, traceback)\u001b[0m\n\u001b[1;32m     65\u001b[0m             \u001b[0;32mtry\u001b[0m\u001b[0;34m:\u001b[0m\u001b[0;34m\u001b[0m\u001b[0m\n\u001b[0;32m---> 66\u001b[0;31m                 \u001b[0mnext\u001b[0m\u001b[0;34m(\u001b[0m\u001b[0mself\u001b[0m\u001b[0;34m.\u001b[0m\u001b[0mgen\u001b[0m\u001b[0;34m)\u001b[0m\u001b[0;34m\u001b[0m\u001b[0m\n\u001b[0m\u001b[1;32m     67\u001b[0m             \u001b[0;32mexcept\u001b[0m \u001b[0mStopIteration\u001b[0m\u001b[0;34m:\u001b[0m\u001b[0;34m\u001b[0m\u001b[0m\n",
      "\u001b[0;32m/home/sumit/tensorflowGPU/lib/python3.5/site-packages/tensorflow/python/framework/errors_impl.py\u001b[0m in \u001b[0;36mraise_exception_on_not_ok_status\u001b[0;34m()\u001b[0m\n\u001b[1;32m    465\u001b[0m           \u001b[0mcompat\u001b[0m\u001b[0;34m.\u001b[0m\u001b[0mas_text\u001b[0m\u001b[0;34m(\u001b[0m\u001b[0mpywrap_tensorflow\u001b[0m\u001b[0;34m.\u001b[0m\u001b[0mTF_Message\u001b[0m\u001b[0;34m(\u001b[0m\u001b[0mstatus\u001b[0m\u001b[0;34m)\u001b[0m\u001b[0;34m)\u001b[0m\u001b[0;34m,\u001b[0m\u001b[0;34m\u001b[0m\u001b[0m\n\u001b[0;32m--> 466\u001b[0;31m           pywrap_tensorflow.TF_GetCode(status))\n\u001b[0m\u001b[1;32m    467\u001b[0m   \u001b[0;32mfinally\u001b[0m\u001b[0;34m:\u001b[0m\u001b[0;34m\u001b[0m\u001b[0m\n",
      "\u001b[0;31mInternalError\u001b[0m: Blas GEMM launch failed : a.shape=(50, 28), b.shape=(28, 500), m=50, n=500, k=28\n\t [[Node: MatMul = MatMul[T=DT_FLOAT, transpose_a=false, transpose_b=false, _device=\"/job:localhost/replica:0/task:0/gpu:0\"](_recv_Placeholder_0/_9, Variable/read)]]\n\t [[Node: Mean_1/_17 = _Recv[client_terminated=false, recv_device=\"/job:localhost/replica:0/task:0/cpu:0\", send_device=\"/job:localhost/replica:0/task:0/gpu:0\", send_device_incarnation=1, tensor_name=\"edge_437_Mean_1\", tensor_type=DT_FLOAT, _device=\"/job:localhost/replica:0/task:0/cpu:0\"]()]]",
      "\nDuring handling of the above exception, another exception occurred:\n",
      "\u001b[0;31mInternalError\u001b[0m                             Traceback (most recent call last)",
      "\u001b[0;32m<ipython-input-16-07719223092a>\u001b[0m in \u001b[0;36m<module>\u001b[0;34m()\u001b[0m\n\u001b[1;32m     24\u001b[0m             \u001b[0;32mfor\u001b[0m \u001b[0mi\u001b[0m \u001b[0;32min\u001b[0m \u001b[0mrange\u001b[0m\u001b[0;34m(\u001b[0m\u001b[0mtotal_batch\u001b[0m\u001b[0;34m)\u001b[0m\u001b[0;34m:\u001b[0m\u001b[0;34m\u001b[0m\u001b[0m\n\u001b[1;32m     25\u001b[0m                 \u001b[0mbatch_x\u001b[0m\u001b[0;34m,\u001b[0m \u001b[0mbatch_y\u001b[0m \u001b[0;34m=\u001b[0m \u001b[0mbatch_creator\u001b[0m\u001b[0;34m(\u001b[0m\u001b[0mbatch_size\u001b[0m\u001b[0;34m,\u001b[0m \u001b[0mtrain_x\u001b[0m\u001b[0;34m.\u001b[0m\u001b[0mshape\u001b[0m\u001b[0;34m[\u001b[0m\u001b[0;36m0\u001b[0m\u001b[0;34m]\u001b[0m\u001b[0;34m,\u001b[0m \u001b[0;34m'train'\u001b[0m\u001b[0;34m)\u001b[0m\u001b[0;34m\u001b[0m\u001b[0m\n\u001b[0;32m---> 26\u001b[0;31m                 \u001b[0m_\u001b[0m\u001b[0;34m,\u001b[0m \u001b[0mc\u001b[0m \u001b[0;34m=\u001b[0m \u001b[0msess\u001b[0m\u001b[0;34m.\u001b[0m\u001b[0mrun\u001b[0m\u001b[0;34m(\u001b[0m\u001b[0;34m[\u001b[0m\u001b[0moptimizer\u001b[0m\u001b[0;34m,\u001b[0m \u001b[0mcost\u001b[0m\u001b[0;34m]\u001b[0m\u001b[0;34m,\u001b[0m \u001b[0mfeed_dict\u001b[0m \u001b[0;34m=\u001b[0m \u001b[0;34m{\u001b[0m\u001b[0mx\u001b[0m\u001b[0;34m:\u001b[0m \u001b[0mbatch_x\u001b[0m\u001b[0;34m,\u001b[0m \u001b[0my\u001b[0m\u001b[0;34m:\u001b[0m \u001b[0mbatch_y\u001b[0m\u001b[0;34m,\u001b[0m \u001b[0mkeep_prob\u001b[0m\u001b[0;34m:\u001b[0m \u001b[0;36m0.75\u001b[0m\u001b[0;34m}\u001b[0m\u001b[0;34m)\u001b[0m\u001b[0;34m\u001b[0m\u001b[0m\n\u001b[0m\u001b[1;32m     27\u001b[0m \u001b[0;34m\u001b[0m\u001b[0m\n\u001b[1;32m     28\u001b[0m                 \u001b[0mavg_cost\u001b[0m \u001b[0;34m+=\u001b[0m \u001b[0mc\u001b[0m \u001b[0;34m/\u001b[0m \u001b[0mtotal_batch\u001b[0m\u001b[0;34m\u001b[0m\u001b[0m\n",
      "\u001b[0;32m/home/sumit/tensorflowGPU/lib/python3.5/site-packages/tensorflow/python/client/session.py\u001b[0m in \u001b[0;36mrun\u001b[0;34m(self, fetches, feed_dict, options, run_metadata)\u001b[0m\n\u001b[1;32m    776\u001b[0m     \u001b[0;32mtry\u001b[0m\u001b[0;34m:\u001b[0m\u001b[0;34m\u001b[0m\u001b[0m\n\u001b[1;32m    777\u001b[0m       result = self._run(None, fetches, feed_dict, options_ptr,\n\u001b[0;32m--> 778\u001b[0;31m                          run_metadata_ptr)\n\u001b[0m\u001b[1;32m    779\u001b[0m       \u001b[0;32mif\u001b[0m \u001b[0mrun_metadata\u001b[0m\u001b[0;34m:\u001b[0m\u001b[0;34m\u001b[0m\u001b[0m\n\u001b[1;32m    780\u001b[0m         \u001b[0mproto_data\u001b[0m \u001b[0;34m=\u001b[0m \u001b[0mtf_session\u001b[0m\u001b[0;34m.\u001b[0m\u001b[0mTF_GetBuffer\u001b[0m\u001b[0;34m(\u001b[0m\u001b[0mrun_metadata_ptr\u001b[0m\u001b[0;34m)\u001b[0m\u001b[0;34m\u001b[0m\u001b[0m\n",
      "\u001b[0;32m/home/sumit/tensorflowGPU/lib/python3.5/site-packages/tensorflow/python/client/session.py\u001b[0m in \u001b[0;36m_run\u001b[0;34m(self, handle, fetches, feed_dict, options, run_metadata)\u001b[0m\n\u001b[1;32m    980\u001b[0m     \u001b[0;32mif\u001b[0m \u001b[0mfinal_fetches\u001b[0m \u001b[0;32mor\u001b[0m \u001b[0mfinal_targets\u001b[0m\u001b[0;34m:\u001b[0m\u001b[0;34m\u001b[0m\u001b[0m\n\u001b[1;32m    981\u001b[0m       results = self._do_run(handle, final_targets, final_fetches,\n\u001b[0;32m--> 982\u001b[0;31m                              feed_dict_string, options, run_metadata)\n\u001b[0m\u001b[1;32m    983\u001b[0m     \u001b[0;32melse\u001b[0m\u001b[0;34m:\u001b[0m\u001b[0;34m\u001b[0m\u001b[0m\n\u001b[1;32m    984\u001b[0m       \u001b[0mresults\u001b[0m \u001b[0;34m=\u001b[0m \u001b[0;34m[\u001b[0m\u001b[0;34m]\u001b[0m\u001b[0;34m\u001b[0m\u001b[0m\n",
      "\u001b[0;32m/home/sumit/tensorflowGPU/lib/python3.5/site-packages/tensorflow/python/client/session.py\u001b[0m in \u001b[0;36m_do_run\u001b[0;34m(self, handle, target_list, fetch_list, feed_dict, options, run_metadata)\u001b[0m\n\u001b[1;32m   1030\u001b[0m     \u001b[0;32mif\u001b[0m \u001b[0mhandle\u001b[0m \u001b[0;32mis\u001b[0m \u001b[0;32mNone\u001b[0m\u001b[0;34m:\u001b[0m\u001b[0;34m\u001b[0m\u001b[0m\n\u001b[1;32m   1031\u001b[0m       return self._do_call(_run_fn, self._session, feed_dict, fetch_list,\n\u001b[0;32m-> 1032\u001b[0;31m                            target_list, options, run_metadata)\n\u001b[0m\u001b[1;32m   1033\u001b[0m     \u001b[0;32melse\u001b[0m\u001b[0;34m:\u001b[0m\u001b[0;34m\u001b[0m\u001b[0m\n\u001b[1;32m   1034\u001b[0m       return self._do_call(_prun_fn, self._session, handle, feed_dict,\n",
      "\u001b[0;32m/home/sumit/tensorflowGPU/lib/python3.5/site-packages/tensorflow/python/client/session.py\u001b[0m in \u001b[0;36m_do_call\u001b[0;34m(self, fn, *args)\u001b[0m\n\u001b[1;32m   1050\u001b[0m         \u001b[0;32mexcept\u001b[0m \u001b[0mKeyError\u001b[0m\u001b[0;34m:\u001b[0m\u001b[0;34m\u001b[0m\u001b[0m\n\u001b[1;32m   1051\u001b[0m           \u001b[0;32mpass\u001b[0m\u001b[0;34m\u001b[0m\u001b[0m\n\u001b[0;32m-> 1052\u001b[0;31m       \u001b[0;32mraise\u001b[0m \u001b[0mtype\u001b[0m\u001b[0;34m(\u001b[0m\u001b[0me\u001b[0m\u001b[0;34m)\u001b[0m\u001b[0;34m(\u001b[0m\u001b[0mnode_def\u001b[0m\u001b[0;34m,\u001b[0m \u001b[0mop\u001b[0m\u001b[0;34m,\u001b[0m \u001b[0mmessage\u001b[0m\u001b[0;34m)\u001b[0m\u001b[0;34m\u001b[0m\u001b[0m\n\u001b[0m\u001b[1;32m   1053\u001b[0m \u001b[0;34m\u001b[0m\u001b[0m\n\u001b[1;32m   1054\u001b[0m   \u001b[0;32mdef\u001b[0m \u001b[0m_extend_graph\u001b[0m\u001b[0;34m(\u001b[0m\u001b[0mself\u001b[0m\u001b[0;34m)\u001b[0m\u001b[0;34m:\u001b[0m\u001b[0;34m\u001b[0m\u001b[0m\n",
      "\u001b[0;31mInternalError\u001b[0m: Blas GEMM launch failed : a.shape=(50, 28), b.shape=(28, 500), m=50, n=500, k=28\n\t [[Node: MatMul = MatMul[T=DT_FLOAT, transpose_a=false, transpose_b=false, _device=\"/job:localhost/replica:0/task:0/gpu:0\"](_recv_Placeholder_0/_9, Variable/read)]]\n\t [[Node: Mean_1/_17 = _Recv[client_terminated=false, recv_device=\"/job:localhost/replica:0/task:0/cpu:0\", send_device=\"/job:localhost/replica:0/task:0/gpu:0\", send_device_incarnation=1, tensor_name=\"edge_437_Mean_1\", tensor_type=DT_FLOAT, _device=\"/job:localhost/replica:0/task:0/cpu:0\"]()]]\n\nCaused by op 'MatMul', defined at:\n  File \"/usr/lib/python3.5/runpy.py\", line 184, in _run_module_as_main\n    \"__main__\", mod_spec)\n  File \"/usr/lib/python3.5/runpy.py\", line 85, in _run_code\n    exec(code, run_globals)\n  File \"/home/sumit/tensorflowGPU/lib/python3.5/site-packages/ipykernel/__main__.py\", line 3, in <module>\n    app.launch_new_instance()\n  File \"/home/sumit/tensorflowGPU/lib/python3.5/site-packages/traitlets/config/application.py\", line 658, in launch_instance\n    app.start()\n  File \"/home/sumit/tensorflowGPU/lib/python3.5/site-packages/ipykernel/kernelapp.py\", line 474, in start\n    ioloop.IOLoop.instance().start()\n  File \"/home/sumit/tensorflowGPU/lib/python3.5/site-packages/zmq/eventloop/ioloop.py\", line 177, in start\n    super(ZMQIOLoop, self).start()\n  File \"/home/sumit/tensorflowGPU/lib/python3.5/site-packages/tornado/ioloop.py\", line 887, in start\n    handler_func(fd_obj, events)\n  File \"/home/sumit/tensorflowGPU/lib/python3.5/site-packages/tornado/stack_context.py\", line 275, in null_wrapper\n    return fn(*args, **kwargs)\n  File \"/home/sumit/tensorflowGPU/lib/python3.5/site-packages/zmq/eventloop/zmqstream.py\", line 440, in _handle_events\n    self._handle_recv()\n  File \"/home/sumit/tensorflowGPU/lib/python3.5/site-packages/zmq/eventloop/zmqstream.py\", line 472, in _handle_recv\n    self._run_callback(callback, msg)\n  File \"/home/sumit/tensorflowGPU/lib/python3.5/site-packages/zmq/eventloop/zmqstream.py\", line 414, in _run_callback\n    callback(*args, **kwargs)\n  File \"/home/sumit/tensorflowGPU/lib/python3.5/site-packages/tornado/stack_context.py\", line 275, in null_wrapper\n    return fn(*args, **kwargs)\n  File \"/home/sumit/tensorflowGPU/lib/python3.5/site-packages/ipykernel/kernelbase.py\", line 276, in dispatcher\n    return self.dispatch_shell(stream, msg)\n  File \"/home/sumit/tensorflowGPU/lib/python3.5/site-packages/ipykernel/kernelbase.py\", line 228, in dispatch_shell\n    handler(stream, idents, msg)\n  File \"/home/sumit/tensorflowGPU/lib/python3.5/site-packages/ipykernel/kernelbase.py\", line 390, in execute_request\n    user_expressions, allow_stdin)\n  File \"/home/sumit/tensorflowGPU/lib/python3.5/site-packages/ipykernel/ipkernel.py\", line 196, in do_execute\n    res = shell.run_cell(code, store_history=store_history, silent=silent)\n  File \"/home/sumit/tensorflowGPU/lib/python3.5/site-packages/ipykernel/zmqshell.py\", line 501, in run_cell\n    return super(ZMQInteractiveShell, self).run_cell(*args, **kwargs)\n  File \"/home/sumit/tensorflowGPU/lib/python3.5/site-packages/IPython/core/interactiveshell.py\", line 2717, in run_cell\n    interactivity=interactivity, compiler=compiler, result=result)\n  File \"/home/sumit/tensorflowGPU/lib/python3.5/site-packages/IPython/core/interactiveshell.py\", line 2821, in run_ast_nodes\n    if self.run_code(code, result):\n  File \"/home/sumit/tensorflowGPU/lib/python3.5/site-packages/IPython/core/interactiveshell.py\", line 2881, in run_code\n    exec(code_obj, self.user_global_ns, self.user_ns)\n  File \"<ipython-input-10-07edb51fd11e>\", line 3, in <module>\n    hidden_layer_1 = tf.add(tf.matmul(x, weights['hidden_1']), biases['hidden_1'])\n  File \"/home/sumit/tensorflowGPU/lib/python3.5/site-packages/tensorflow/python/ops/math_ops.py\", line 1801, in matmul\n    a, b, transpose_a=transpose_a, transpose_b=transpose_b, name=name)\n  File \"/home/sumit/tensorflowGPU/lib/python3.5/site-packages/tensorflow/python/ops/gen_math_ops.py\", line 1263, in _mat_mul\n    transpose_b=transpose_b, name=name)\n  File \"/home/sumit/tensorflowGPU/lib/python3.5/site-packages/tensorflow/python/framework/op_def_library.py\", line 768, in apply_op\n    op_def=op_def)\n  File \"/home/sumit/tensorflowGPU/lib/python3.5/site-packages/tensorflow/python/framework/ops.py\", line 2336, in create_op\n    original_op=self._default_original_op, op_def=op_def)\n  File \"/home/sumit/tensorflowGPU/lib/python3.5/site-packages/tensorflow/python/framework/ops.py\", line 1228, in __init__\n    self._traceback = _extract_stack()\n\nInternalError (see above for traceback): Blas GEMM launch failed : a.shape=(50, 28), b.shape=(28, 500), m=50, n=500, k=28\n\t [[Node: MatMul = MatMul[T=DT_FLOAT, transpose_a=false, transpose_b=false, _device=\"/job:localhost/replica:0/task:0/gpu:0\"](_recv_Placeholder_0/_9, Variable/read)]]\n\t [[Node: Mean_1/_17 = _Recv[client_terminated=false, recv_device=\"/job:localhost/replica:0/task:0/cpu:0\", send_device=\"/job:localhost/replica:0/task:0/gpu:0\", send_device_incarnation=1, tensor_name=\"edge_437_Mean_1\", tensor_type=DT_FLOAT, _device=\"/job:localhost/replica:0/task:0/cpu:0\"]()]]\n"
     ]
    }
   ],
   "source": [
    "last_epoch_cost = np.array([])\n",
    "acc = np.array([])\n",
    "for k in range(0, 5):\n",
    "    train_x, val_x, target_y, val_y = train_test_split(\n",
    "        train_x, target_y, test_size=0.33, random_state=random_seed)\n",
    "    \n",
    "    cost = (tf.reduce_mean(tf.nn.softmax_cross_entropy_with_logits(\n",
    "                logits=output_layer, labels=y)))\n",
    "    optimizer = tf.train.AdamOptimizer(learning_rate=learning_rate).minimize(cost)\n",
    "    init = tf.global_variables_initializer()\n",
    "    with tf.Session() as sess:\n",
    "        # create initialized variables.\n",
    "        sess.run(init)\n",
    "\n",
    "        ### for each epoch, do:\n",
    "        ###    for each batch, do:\n",
    "        ###        create pre-processed batch\n",
    "        ###        run optimizer by feed batch\n",
    "        ###        find cost and reiterate to minimize\n",
    "\n",
    "        for epoch in range(epochs):\n",
    "            avg_cost = 0\n",
    "            total_batch = int(traindata_df.shape[0] / batch_size)\n",
    "            for i in range(total_batch):\n",
    "                batch_x, batch_y = batch_creator(batch_size, train_x.shape[0], 'train')\n",
    "                _, c = sess.run([optimizer, cost], feed_dict = {x: batch_x, y: batch_y, keep_prob: 0.75})\n",
    "\n",
    "                avg_cost += c / total_batch\n",
    "                #print ('_ : ', _)\n",
    "            #print (\"Epoch : \", (epoch+1), \"cost : \", \"{:.5f}\".format(avg_cost))\n",
    "        \n",
    "        last_epoch_cost = np.append(last_epoch_cost, avg_cost)\n",
    "        #print (\"\\nTraining Complete!\")\n",
    "        # Find prediction on val set\n",
    "        pred_temp = tf.equal(tf.argmax(output_layer, 1), tf.argmax(y, 1))\n",
    "        #print ('tf.argmax(output_layer, 1) : ', tf.argmax(output_layer, 1))\n",
    "        #print (' tf,argmax(y, 1) : ',  tf.argmax(y, 1))\n",
    "        #print ('pred_temp : ', pred_temp)\n",
    "\n",
    "        accuracy = tf.reduce_mean(tf.cast(pred_temp, 'float'))\n",
    "        #print (\"Validation Accuarcy : \", accuracy.eval({x: val_x.reshape(-1, 784), y: dense_to_one_hot(val_y)}))\n",
    "\n",
    "        feed_dict = {x: val_x.reshape(-1, 28), y: dense_to_one_hot(val_y), keep_prob: 1}\n",
    "        \n",
    "        val_acc = sess.run(accuracy,feed_dict)\n",
    "        acc = np.append(acc, val_acc)\n",
    "        #print (\"Validation Accuarcy : \", sess.run(accuracy,feed_dict))\n",
    "\n",
    "        #predict = tf.argmax(output_layer, 1)\n",
    "        #pred = predict.eval({x: test.reshape(-1, 784)})\n",
    "\n",
    "        predict = tf.argmax(output_layer, 1)\n",
    "        # pred = predict.eval({x: test.reshape(-1, 784)})\n",
    "        feed_dict = {x: val_x.reshape(-1, 28), keep_prob : 1}\n",
    "        classification = sess.run(predict, feed_dict)\n",
    "        #print (\"Classification : \", classification)\n",
    "print ('last_epoch_cost :')\n",
    "print (last_epoch_cost)\n",
    "print ('accuracy :')\n",
    "print (acc)\n",
    "print ('Average score : ', np.average(acc))"
   ]
  },
  {
   "cell_type": "code",
   "execution_count": 13,
   "metadata": {
    "collapsed": false
   },
   "outputs": [
    {
     "data": {
      "text/plain": [
       "'\\n10-Fold------->>>>>>\\nHidden layer 2->\\nlast_epoch_cost :\\n[  5.14935608e+00   8.08394714e+00   3.74011654e+00   2.03821465e+00\\n   3.04073568e+00   4.60187050e-01   9.83691766e-01   1.01258789e+00\\n   7.72550601e-06   0.00000000e+00]\\naccuracy :\\n[ 0.98013246  0.96039593  0.97058821  0.91111112  0.87096775  0.85000002\\n  0.85714293  0.77777779  0.33333334  0.25      ]\\nAverage score :  0.776144954562\\n\\nHidden layer 3->\\nlast_epoch_cost :\\n[ 276.1403163   221.47097602  135.02559721  233.43939532   88.17133874\\n   70.30298244   62.91116128   15.57941378    0.            0.        ]\\naccuracy :\\n[ 0.96026486  0.97029698  0.95588237  0.9333334   0.93548381  0.80000001\\n  0.78571433  0.55555558  0.33333334  0.25      ]\\nAverage score :  0.747986468673\\n\\nHidden layer 4->\\nlast_epoch_cost :\\n[ 5971.54774358  4482.30451144  5354.61142203  5497.41480196  1792.21327327\\n  2612.73828125  1765.79959576   578.58700327    58.18711501     0.        ]\\naccuracy :\\n[ 0.96688741  0.97029692  0.95588231  0.9333334   1.          0.89999998\\n  0.71428573  0.66666669  0.16666667  0.5       ]\\nAverage score :  0.777401910722\\n\\n5-Fold----->>>>>\\nHidden layer 2->\\nlast_epoch_cost :\\n[ 9.53172477  6.67032928  2.13809756  1.93552932  1.3517726 ]\\naccuracy :\\n[ 0.95364243  0.99009895  0.95588237  0.88888896  0.90322578]\\nAverage score :  0.938347697258\\n\\nHidden layer 3->\\nlast_epoch_cost :\\n[ 262.22512744  290.42787464  141.84218627  184.84802804   38.35275357]\\naccuracy :\\n[ 0.9801324   0.98019797  0.92647064  0.84444451  0.93548381]\\nAverage score :  0.933345866203\\n\\nHidden layer 4->\\nlast_epoch_cost :\\n[ 4944.64388569  4198.26876596  3790.13301908  4760.43446702  3073.84308096]\\naccuracy :\\n[ 0.97350991  0.98019791  0.9852941   0.98555556  0.93548381]\\nAverage score : 0.972008258\\n\\nHidden layer 5->\\nlast_epoch_cost :\\n[ 153331.6421274   200371.68088942  105165.96559495  110439.63957332\\n  100071.78598257]\\naccuracy :\\n[ 0.98675501  0.96039593  0.94117653  0.95555556  0.93548381]\\nAverage score :  0.955873370171\\n\\nHidden layer 6->\\nlast_epoch_cost :\\n[ 4452234.09615385  3244068.39423077  2683706.00961538  2646890.84615385\\n  2016542.57692308]\\naccuracy :\\n[ 0.94701982  0.89108902  0.91176468  0.95555556  0.93548381]\\nAverage score :  0.928182578087\\n\\nHidden layer 7->\\nlast_epoch_cost :\\n[ 67566850.76923077  75854437.84615384  70189265.84615386\\n  72940511.38461538  59353133.53846154]\\naccuracy :\\n[ 0.83443713  0.93069297  0.92647064  0.75555563  0.90322578]\\nAverage score :  0.870076429844\\n'"
      ]
     },
     "execution_count": 13,
     "metadata": {},
     "output_type": "execute_result"
    }
   ],
   "source": [
    "\"\"\"\n",
    "10-Fold------->>>>>>\n",
    "Hidden layer 2->\n",
    "last_epoch_cost :\n",
    "[  5.14935608e+00   8.08394714e+00   3.74011654e+00   2.03821465e+00\n",
    "   3.04073568e+00   4.60187050e-01   9.83691766e-01   1.01258789e+00\n",
    "   7.72550601e-06   0.00000000e+00]\n",
    "accuracy :\n",
    "[ 0.98013246  0.96039593  0.97058821  0.91111112  0.87096775  0.85000002\n",
    "  0.85714293  0.77777779  0.33333334  0.25      ]\n",
    "Average score :  0.776144954562\n",
    "\n",
    "Hidden layer 3->\n",
    "last_epoch_cost :\n",
    "[ 276.1403163   221.47097602  135.02559721  233.43939532   88.17133874\n",
    "   70.30298244   62.91116128   15.57941378    0.            0.        ]\n",
    "accuracy :\n",
    "[ 0.96026486  0.97029698  0.95588237  0.9333334   0.93548381  0.80000001\n",
    "  0.78571433  0.55555558  0.33333334  0.25      ]\n",
    "Average score :  0.747986468673\n",
    "\n",
    "Hidden layer 4->\n",
    "last_epoch_cost :\n",
    "[ 5971.54774358  4482.30451144  5354.61142203  5497.41480196  1792.21327327\n",
    "  2612.73828125  1765.79959576   578.58700327    58.18711501     0.        ]\n",
    "accuracy :\n",
    "[ 0.96688741  0.97029692  0.95588231  0.9333334   1.          0.89999998\n",
    "  0.71428573  0.66666669  0.16666667  0.5       ]\n",
    "Average score :  0.777401910722\n",
    "\n",
    "5-Fold----->>>>>\n",
    "Hidden layer 2->\n",
    "last_epoch_cost :\n",
    "[ 9.53172477  6.67032928  2.13809756  1.93552932  1.3517726 ]\n",
    "accuracy :\n",
    "[ 0.95364243  0.99009895  0.95588237  0.88888896  0.90322578]\n",
    "Average score :  0.938347697258\n",
    "\n",
    "Hidden layer 3->\n",
    "last_epoch_cost :\n",
    "[ 262.22512744  290.42787464  141.84218627  184.84802804   38.35275357]\n",
    "accuracy :\n",
    "[ 0.9801324   0.98019797  0.92647064  0.84444451  0.93548381]\n",
    "Average score :  0.933345866203\n",
    "\n",
    "Hidden layer 4->\n",
    "last_epoch_cost :\n",
    "[ 4944.64388569  4198.26876596  3790.13301908  4760.43446702  3073.84308096]\n",
    "accuracy :\n",
    "[ 0.97350991  0.98019791  0.9852941   0.98555556  0.93548381]\n",
    "Average score : 0.972008258\n",
    "\n",
    "Hidden layer 5->\n",
    "last_epoch_cost :\n",
    "[ 153331.6421274   200371.68088942  105165.96559495  110439.63957332\n",
    "  100071.78598257]\n",
    "accuracy :\n",
    "[ 0.98675501  0.96039593  0.94117653  0.95555556  0.93548381]\n",
    "Average score :  0.955873370171\n",
    "\n",
    "Hidden layer 6->\n",
    "last_epoch_cost :\n",
    "[ 4452234.09615385  3244068.39423077  2683706.00961538  2646890.84615385\n",
    "  2016542.57692308]\n",
    "accuracy :\n",
    "[ 0.94701982  0.89108902  0.91176468  0.95555556  0.93548381]\n",
    "Average score :  0.928182578087\n",
    "\n",
    "Hidden layer 7->\n",
    "last_epoch_cost :\n",
    "[ 67566850.76923077  75854437.84615384  70189265.84615386\n",
    "  72940511.38461538  59353133.53846154]\n",
    "accuracy :\n",
    "[ 0.83443713  0.93069297  0.92647064  0.75555563  0.90322578]\n",
    "Average score :  0.870076429844\n",
    "\"\"\""
   ]
  },
  {
   "cell_type": "code",
   "execution_count": 16,
   "metadata": {
    "collapsed": false
   },
   "outputs": [
    {
     "data": {
      "text/plain": [
       "<matplotlib.text.Text at 0x7f7fa0096550>"
      ]
     },
     "execution_count": 16,
     "metadata": {},
     "output_type": "execute_result"
    },
    {
     "data": {
      "image/png": "[encoded data removed]",
      "text/plain": [
       "<matplotlib.figure.Figure at 0x7f7f7c357780>"
      ]
     },
     "metadata": {},
     "output_type": "display_data"
    }
   ],
   "source": [
    "%matplotlib inline\n",
    "import matplotlib.pyplot as plt\n",
    "k = np.arange(1, 6)\n",
    "#accuracy = np.random.uniform(96,99,10)\n",
    "hl = range(2, 8)\n",
    "avg_accuracy = np.array([0.938347697258, 0.933345866203, 0.972008258, 0.955873370171, \n",
    "                         0.928182578087, 0.870076429844])\n",
    "#plt.set_marker(marker)\n",
    "plt.plot(hl, avg_accuracy, marker='s', color='black')\n",
    "plt.ylabel('5-Fold Average Accuracy%', fontsize=15)\n",
    "plt.xlabel('Number of Hidden Layer', fontsize=15)\n"
   ]
  },
  {
   "cell_type": "code",
   "execution_count": 17,
   "metadata": {
    "collapsed": false
   },
   "outputs": [
    {
     "data": {
      "text/plain": [
       "<matplotlib.text.Text at 0x7f7f7c282320>"
      ]
     },
     "execution_count": 17,
     "metadata": {},
     "output_type": "execute_result"
    },
    {
     "data": {
      "image/png": "[encoded data removed]",
      "text/plain": [
       "<matplotlib.figure.Figure at 0x7f7fa00f7160>"
      ]
     },
     "metadata": {},
     "output_type": "display_data"
    }
   ],
   "source": [
    "cost = np.array([179474.76082, 54843.78726, 26770.54218, 19502.19456, 12753.41816,\n",
    "                 8365.23174, 5247.71479])\n",
    "epoch = np.arange(1, 8)\n",
    "plt.plot(epoch, cost, marker='o', color='black')\n",
    "plt.xlabel('Number of Epoch', fontsize=15)\n",
    "plt.ylabel('Average Cost', fontsize=15)"
   ]
  },
  {
   "cell_type": "code",
   "execution_count": null,
   "metadata": {
    "collapsed": true
   },
   "outputs": [],
   "source": []
  }
 ],
 "metadata": {
  "kernelspec": {
   "display_name": "Python 3",
   "language": "python",
   "name": "python3"
  },
  "language_info": {
   "codemirror_mode": {
    "name": "ipython",
    "version": 3
   },
   "file_extension": ".py",
   "mimetype": "text/x-python",
   "name": "python",
   "nbconvert_exporter": "python",
   "pygments_lexer": "ipython3",
   "version": "3.5.2"
  }
 },
 "nbformat": 4,
 "nbformat_minor": 2
}
