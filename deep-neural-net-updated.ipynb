{
 "cells": [
  {
   "cell_type": "code",
   "execution_count": 1,
   "metadata": {
    "collapsed": true
   },
   "outputs": [],
   "source": [
    "import os\n",
    "import numpy as np\n",
    "import pandas as pd\n",
    "from scipy.misc import imread\n",
    "from sklearn.metrics import accuracy_score\n",
    "from sklearn.model_selection import train_test_split\n",
    "import tensorflow as tf\n",
    "import fuzzy_classification as fc"
   ]
  },
  {
   "cell_type": "code",
   "execution_count": 2,
   "metadata": {
    "collapsed": false
   },
   "outputs": [
    {
     "name": "stdout",
     "output_type": "stream",
     "text": [
      "1.1.0\n"
     ]
    }
   ],
   "source": [
    "print(tf.__version__)"
   ]
  },
  {
   "cell_type": "code",
   "execution_count": 3,
   "metadata": {
    "collapsed": false
   },
   "outputs": [],
   "source": [
    "traindata_df = fc.traindata_df\n",
    "target_df = fc.target_df\n",
    "# To stop potential randomness\n",
    "seed = 50\n",
    "rng = np.random.RandomState(seed)\n",
    "random_seed = 25\n",
    "train_x = traindata_df.values\n",
    "target_y = target_df.values\n",
    "\n",
    "#split_size = int(train_x.shape[0] * 0.7)\n",
    "train_x, val_x, target_y, val_y = train_test_split(\n",
    "        train_x, target_y, test_size=0.33, random_state=random_seed)"
   ]
  },
  {
   "cell_type": "code",
   "execution_count": 4,
   "metadata": {
    "collapsed": true
   },
   "outputs": [],
   "source": [
    "def dense_to_one_hot(labels_dense, num_classes=11):\n",
    "    \"\"\"Convert class labels from scalars to one-hot vectors\"\"\"\n",
    "    num_labels = labels_dense.shape[0]\n",
    "    index_offset = np.arange(num_labels) * num_classes\n",
    "    labels_one_hot = np.zeros((num_labels, num_classes))\n",
    "    labels_one_hot.flat[index_offset.astype(int) + labels_dense.ravel().astype(int)] = 1\n",
    "    \n",
    "    return labels_one_hot"
   ]
  },
  {
   "cell_type": "code",
   "execution_count": 5,
   "metadata": {
    "collapsed": true
   },
   "outputs": [],
   "source": [
    "def preproc(unclean_batch_x):\n",
    "    \"\"\"Convert values to range 0-1\"\"\"\n",
    "    temp_batch = unclean_batch_x\n",
    "    \n",
    "    return temp_batch"
   ]
  },
  {
   "cell_type": "code",
   "execution_count": 6,
   "metadata": {
    "collapsed": true
   },
   "outputs": [],
   "source": [
    "def batch_creator(batch_size, dataset_length, step_name):\n",
    "    \"\"\"Create batch with random samples and return appropriate format\"\"\"\n",
    "    batch_mask = rng.choice(dataset_length, batch_size)\n",
    "    batch_x = train_x[[batch_mask]].reshape(-1, 28)\n",
    "    batch_x = preproc(batch_x)\n",
    "    if step_name == 'train':\n",
    "        batch_y = target_y[batch_mask]\n",
    "        batch_y = dense_to_one_hot(batch_y)\n",
    "        \n",
    "    return batch_x, batch_y"
   ]
  },
  {
   "cell_type": "code",
   "execution_count": 7,
   "metadata": {
    "collapsed": false
   },
   "outputs": [],
   "source": [
    "batch_size = 50\n",
    "batch_x, batch_y = batch_creator(batch_size, train_x.shape[0], 'train')"
   ]
  },
  {
   "cell_type": "code",
   "execution_count": 8,
   "metadata": {
    "collapsed": true
   },
   "outputs": [],
   "source": [
    "# number of neurons in each layer\n",
    "input_num_units = 28\n",
    "n_units_hl1 = 500\n",
    "n_units_hl2 = 500\n",
    "n_units_hl3 = 500\n",
    "n_units_hl4 = 500\n",
    "\n",
    "n_classes = 11\n",
    "output_num_units = 11\n",
    "learning_rate = 0.01\n",
    "\n",
    "# define placeholders\n",
    "x = tf.placeholder('float', [None, input_num_units])\n",
    "y = tf.placeholder('float', [None, output_num_units])\n",
    "keep_prob = tf.placeholder('float')\n",
    "# set remaining variables\n",
    "epochs = 7\n",
    "batch_size = 50\n",
    "\n",
    "### define weights and biases of the neural network\n",
    "\n",
    "weights = {\n",
    "    'hidden_1' : tf.Variable(tf.random_normal([input_num_units, n_units_hl1], seed=seed)),\n",
    "    'hidden_2' : tf.Variable(tf.random_normal([n_units_hl1, n_units_hl2], seed=seed)),\n",
    "    'hidden_3' : tf.Variable(tf.random_normal([n_units_hl2, n_units_hl3], seed=seed)),\n",
    "    'hidden_4' : tf.Variable(tf.random_normal([n_units_hl3, n_units_hl4], seed=seed)),\n",
    "    'output' : tf.Variable(tf.random_normal([n_units_hl4, output_num_units], seed=seed))\n",
    "}\n",
    "\n",
    "biases = {\n",
    "    'hidden_1' : tf.Variable(tf.random_normal([n_units_hl1], seed=seed)),\n",
    "    'hidden_2' : tf.Variable(tf.random_normal([n_units_hl2], seed=seed)),\n",
    "    'hidden_3' : tf.Variable(tf.random_normal([n_units_hl3], seed=seed)),\n",
    "    'hidden_4' : tf.Variable(tf.random_normal([n_units_hl4], seed=seed)),\n",
    "    'output' : tf.Variable(tf.random_normal([output_num_units], seed=seed))\n",
    "}"
   ]
  },
  {
   "cell_type": "code",
   "execution_count": 9,
   "metadata": {
    "collapsed": true
   },
   "outputs": [],
   "source": [
    "### create neural network computational graph\n",
    "def feed_forword():\n",
    "    hidden_layer_1 = tf.add(tf.matmul(x, weights['hidden_1']), biases['hidden_1'])\n",
    "    hidden_layer_1 = tf.nn.relu(hidden_layer_1)\n",
    "\n",
    "    hidden_layer_2 = tf.add(tf.matmul(hidden_layer_1, weights['hidden_2']), biases['hidden_2'])\n",
    "    hidden_layer_2 = tf.nn.relu(hidden_layer_2)\n",
    "    hidden_layer_2 = tf.nn.dropout(hidden_layer_2, keep_prob)\n",
    "\n",
    "    hidden_layer_3 = tf.add(tf.matmul(hidden_layer_2, weights['hidden_3']), biases['hidden_3'])\n",
    "    hidden_layer_3 = tf.nn.relu(hidden_layer_3)\n",
    "    hidden_layer_3 = tf.nn.dropout(hidden_layer_3, keep_prob)\n",
    "\n",
    "    hidden_layer_4 = tf.add(tf.matmul(hidden_layer_3, weights['hidden_4']), biases['hidden_4'])\n",
    "    hidden_layer_4 = tf.nn.relu(hidden_layer_4)\n",
    "    hidden_layer_4 = tf.nn.dropout(hidden_layer_4, keep_prob)\n",
    "\n",
    "    output_layer = tf.matmul(hidden_layer_4, weights['output']) + biases['output']\n",
    "\n",
    "    return output_layer"
   ]
  },
  {
   "cell_type": "code",
   "execution_count": 24,
   "metadata": {
    "collapsed": false
   },
   "outputs": [
    {
     "name": "stdout",
     "output_type": "stream",
     "text": [
      "last_epoch_cost :\n",
      "[ 1533.69170908   596.92365676   635.40781344   160.57314359    59.94749685]\n",
      "accuracy :\n",
      "[ 0.98675495  0.99009901  1.          0.9333334   0.96774191]\n",
      "Average score :  0.975585854053\n"
     ]
    }
   ],
   "source": [
    "with tf.Session() as sess:\n",
    "    output_layer = feed_forword()\n",
    "    def train_model(train_x, target_y):\n",
    "        last_epoch_cost = np.array([])\n",
    "        acc = np.array([])\n",
    "        #output_layer = feed_forword()\n",
    "        for k in range(0, 5):\n",
    "            train_x, val_x, target_y, val_y = train_test_split(\n",
    "                train_x, target_y, test_size=0.33, random_state=random_seed)\n",
    "            cost = (tf.reduce_mean(tf.nn.softmax_cross_entropy_with_logits(\n",
    "                        logits=output_layer, labels=y)))\n",
    "            optimizer = tf.train.AdamOptimizer(learning_rate=learning_rate).minimize(cost)\n",
    "            init = tf.global_variables_initializer()\n",
    "            sess.run(init)\n",
    "            for epoch in range(epochs):\n",
    "                avg_cost = 0\n",
    "                total_batch = int(traindata_df.shape[0] / batch_size)\n",
    "                for i in range(total_batch):\n",
    "                    batch_x, batch_y = batch_creator(batch_size, train_x.shape[0], 'train')\n",
    "                    _, c = sess.run([optimizer, cost], feed_dict = {x: batch_x, y: batch_y, keep_prob: 0.75})\n",
    "\n",
    "                    avg_cost += c / total_batch\n",
    "            last_epoch_cost = np.append(last_epoch_cost, avg_cost)\n",
    "            pred_temp = tf.equal(tf.argmax(output_layer, 1), tf.argmax(y, 1))\n",
    "            accuracy = tf.reduce_mean(tf.cast(pred_temp, 'float'))\n",
    "            feed_dict = {x: val_x.reshape(-1, 28), y: dense_to_one_hot(val_y), keep_prob: 1}\n",
    "\n",
    "            val_acc = sess.run(accuracy,feed_dict)\n",
    "            acc = np.append(acc, val_acc)\n",
    "            \n",
    "        print ('last_epoch_cost :')\n",
    "        print (last_epoch_cost)\n",
    "        print ('accuracy :')\n",
    "        print (acc)\n",
    "        print ('Average score : ', np.average(acc))\n",
    "    \n",
    "    def prediction(test_x):\n",
    "        predict = tf.argmax(output_layer, 1)\n",
    "        feed_dict = {x: test_x.reshape(-1, 28), keep_prob : 1}\n",
    "        classification = sess.run(predict, feed_dict)\n",
    "        print ('Classification :')\n",
    "        print (classification)\n",
    "train_model(train_x, target_y)\n",
    "#prediction()"
   ]
  },
  {
   "cell_type": "code",
   "execution_count": 32,
   "metadata": {
    "collapsed": false
   },
   "outputs": [
    {
     "name": "stdout",
     "output_type": "stream",
     "text": [
      "Connection successful\n"
     ]
    }
   ],
   "source": [
    "#################################\n",
    "#####Conncet to AWS database#########\n",
    "import MySQLdb\n",
    "\n",
    "db = MySQLdb.connect(host='phpmyadmin.c2bpuzfzdybb.us-west-2.rds.amazonaws.com', \n",
    "                      port=3306, user='phpMyAdmin', passwd='phpMyAdmin', db='clouddatasensors')\n",
    "\n",
    "if (db):\n",
    "    # Carry out normal procedure\n",
    "    print ('Connection successful')\n",
    "else:\n",
    "    # Terminate\n",
    "    print (\"Connection unsuccessful\")\n",
    "cursor = db.cursor()"
   ]
  },
  {
   "cell_type": "code",
   "execution_count": 33,
   "metadata": {
    "collapsed": false
   },
   "outputs": [
    {
     "name": "stdout",
     "output_type": "stream",
     "text": [
      "((2,),)\n"
     ]
    }
   ],
   "source": [
    "#sql = 'SELECT Temperature, Humidity, Rain, Vel, Wt FROM sensor ORDER BY did DESC LIMIT 1'\n",
    "sql = 'SELECT output FROM Road_Weight ORDER BY id DESC LIMIT 1'\n",
    "cursor.execute(sql)\n",
    "results = cursor.fetchall()\n",
    "print (results)"
   ]
  },
  {
   "cell_type": "code",
   "execution_count": 25,
   "metadata": {
    "collapsed": false
   },
   "outputs": [
    {
     "name": "stdout",
     "output_type": "stream",
     "text": [
      "[ 0.          0.          1.          0.          0.          0.          1.\n",
      "  0.          1.          0.          0.          0.          0.          1.\n",
      "  1.          0.          0.          0.          1.          0.          1.\n",
      "  0.          0.          1.          0.          0.          0.\n",
      "  0.88235294]\n",
      "[[ 0.          0.          1.          0.          0.          0.          1.\n",
      "   0.          1.          0.          0.          0.          0.          1.\n",
      "   1.          0.          0.          0.          1.          0.          1.\n",
      "   0.          0.          1.          0.          0.          0.\n",
      "   0.88235294]]\n",
      "Classification :\n",
      "[7]\n"
     ]
    }
   ],
   "source": [
    "test_x = fc.predict_fuzz_mem(40, 0, 0, 20, 10, 0, 0, 0, 50)\n",
    "print (test_x)\n",
    "print (test_x.reshape(-1, 28))\n",
    "prediction(test_x)"
   ]
  },
  {
   "cell_type": "code",
   "execution_count": null,
   "metadata": {
    "collapsed": true
   },
   "outputs": [],
   "source": []
  }
 ],
 "metadata": {
  "kernelspec": {
   "display_name": "Python 3",
   "language": "python",
   "name": "python3"
  },
  "language_info": {
   "codemirror_mode": {
    "name": "ipython",
    "version": 3
   },
   "file_extension": ".py",
   "mimetype": "text/x-python",
   "name": "python",
   "nbconvert_exporter": "python",
   "pygments_lexer": "ipython3",
   "version": "3.5.2"
  }
 },
 "nbformat": 4,
 "nbformat_minor": 2
}
