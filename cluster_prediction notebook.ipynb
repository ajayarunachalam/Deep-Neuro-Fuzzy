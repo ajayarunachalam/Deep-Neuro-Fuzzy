{
 "cells": [
  {
   "cell_type": "code",
   "execution_count": 3,
   "metadata": {
    "collapsed": true
   },
   "outputs": [],
   "source": [
    "import numpy as np\n",
    "import pandas as pd\n",
    "from numpy import loadtxt\n",
    "#%matplotlib inline\n",
    "import matplotlib.pyplot as plt\n",
    "import skfuzzy as fuzz"
   ]
  },
  {
   "cell_type": "code",
   "execution_count": 4,
   "metadata": {
    "collapsed": false
   },
   "outputs": [
    {
     "name": "stdout",
     "output_type": "stream",
     "text": [
      "[[ 9.95572003  0.        ]\n",
      " [ 2.95720969  0.        ]\n",
      " [ 0.61123088  0.        ]\n",
      " [ 5.80343385  0.        ]]\n"
     ]
    }
   ],
   "source": [
    "hcntr = np.array(loadtxt(\"humidity_cntr.txt\", comments=\"#\", delimiter=\",\", unpack=False))\n",
    "pcntr = np.array(loadtxt(\"peekhour_cntr.txt\", comments=\"#\", delimiter=\",\", unpack=False))\n",
    "rcntr = np.array(loadtxt(\"rainfall_cntr.txt\", comments=\"#\", delimiter=\",\", unpack=False))\n",
    "tcntr = np.array(loadtxt(\"temp_cntr.txt\", comments=\"#\", delimiter=\",\", unpack=False))\n",
    "wcntr = np.array(loadtxt(\"wind_cntr.txt\", comments=\"#\", delimiter=\",\", unpack=False))\n",
    "print (wcntr)"
   ]
  },
  {
   "cell_type": "code",
   "execution_count": 14,
   "metadata": {
    "collapsed": false
   },
   "outputs": [
    {
     "data": {
      "text/plain": [
       "array([0, 3])"
      ]
     },
     "execution_count": 14,
     "metadata": {},
     "output_type": "execute_result"
    }
   ],
   "source": [
    "def predict_humidity(values):\n",
    "    # value -numpy array\n",
    "    xpts = np.zeros(len(values))\n",
    "    data = np.vstack((values, xpts))\n",
    "    u, u0, d, jm, p, fpc = fuzz.cluster.cmeans_predict(\n",
    "        data, hcntr, 1.5, error=0.0005, maxiter=1000)\n",
    "    cluster_membership = np.argmax(u, axis=0)\n",
    "    \n",
    "    return cluster_membership\n",
    "\n",
    "predict_humidity([70, 120])"
   ]
  },
  {
   "cell_type": "code",
   "execution_count": 15,
   "metadata": {
    "collapsed": false
   },
   "outputs": [
    {
     "data": {
      "text/plain": [
       "array([2, 0])"
      ]
     },
     "execution_count": 15,
     "metadata": {},
     "output_type": "execute_result"
    }
   ],
   "source": [
    "def predict_peekhour(values):\n",
    "    xpts = np.zeros(len(values))\n",
    "    data = np.vstack((values, xpts))\n",
    "    u, u0, d, jm, p, fpc = fuzz.cluster.cmeans_predict(\n",
    "        data, pcntr, 1.5, error=0.0005, maxiter=1000)\n",
    "    cluster_membership = np.argmax(u, axis=0)\n",
    "    \n",
    "    return cluster_membership\n",
    "\n",
    "predict_peekhour([40, 89])\n"
   ]
  },
  {
   "cell_type": "code",
   "execution_count": 16,
   "metadata": {
    "collapsed": false
   },
   "outputs": [
    {
     "data": {
      "text/plain": [
       "array([0, 2])"
      ]
     },
     "execution_count": 16,
     "metadata": {},
     "output_type": "execute_result"
    }
   ],
   "source": [
    "def predict_rainfall(values):\n",
    "    xpts = np.zeros(len(values))\n",
    "    data = np.vstack((values, xpts))\n",
    "    u, u0, d, jm, p, fpc = fuzz.cluster.cmeans_predict(\n",
    "        data, rcntr, 1.5, error=0.0005, maxiter=1000)\n",
    "    cluster_membership = np.argmax(u, axis=0)\n",
    "    \n",
    "    return cluster_membership\n",
    "\n",
    "predict_rainfall([0, 40])"
   ]
  },
  {
   "cell_type": "code",
   "execution_count": 17,
   "metadata": {
    "collapsed": false
   },
   "outputs": [
    {
     "data": {
      "text/plain": [
       "array([2, 1])"
      ]
     },
     "execution_count": 17,
     "metadata": {},
     "output_type": "execute_result"
    }
   ],
   "source": [
    "def predict_temp(values):\n",
    "    xpts = np.zeros(len(values))\n",
    "    data = np.vstack((values, xpts))\n",
    "    u, u0, d, jm, p, fpc = fuzz.cluster.cmeans_predict(\n",
    "        data, tcntr, 1.5, error=0.0005, maxiter=1000)\n",
    "    cluster_membership = np.argmax(u, axis=0)\n",
    "    \n",
    "    return cluster_membership\n",
    "\n",
    "predict_temp([20, 40])"
   ]
  },
  {
   "cell_type": "code",
   "execution_count": 19,
   "metadata": {
    "collapsed": false
   },
   "outputs": [],
   "source": [
    "def predict_wind(values):\n",
    "    xpts = np.zeros(len(values))\n",
    "    data = np.vstack((values, xpts))\n",
    "    u, u0, d, jm, p, fpc = fuzz.cluster.cmeans_predict(\n",
    "        data, wcntr, 1.5, error=0.0005, maxiter=1000)\n",
    "    cluster_membership = np.argmax(u, axis=0)\n",
    "    \n",
    "    return cluster_membership"
   ]
  },
  {
   "cell_type": "code",
   "execution_count": 20,
   "metadata": {
    "collapsed": false
   },
   "outputs": [
    {
     "data": {
      "text/plain": [
       "array([0, 0])"
      ]
     },
     "execution_count": 20,
     "metadata": {},
     "output_type": "execute_result"
    }
   ],
   "source": [
    "predict_wind([9, 70])"
   ]
  },
  {
   "cell_type": "code",
   "execution_count": null,
   "metadata": {
    "collapsed": true
   },
   "outputs": [],
   "source": []
  }
 ],
 "metadata": {
  "kernelspec": {
   "display_name": "Python 3",
   "language": "python",
   "name": "python3"
  },
  "language_info": {
   "codemirror_mode": {
    "name": "ipython",
    "version": 3
   },
   "file_extension": ".py",
   "mimetype": "text/x-python",
   "name": "python",
   "nbconvert_exporter": "python",
   "pygments_lexer": "ipython3",
   "version": "3.5.2"
  }
 },
 "nbformat": 4,
 "nbformat_minor": 2
}
