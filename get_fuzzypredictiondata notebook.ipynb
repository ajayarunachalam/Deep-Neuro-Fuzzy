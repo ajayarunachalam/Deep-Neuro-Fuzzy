{
 "cells": [
  {
   "cell_type": "code",
   "execution_count": 6,
   "metadata": {
    "collapsed": false
   },
   "outputs": [],
   "source": [
    "import numpy as np\n",
    "import skfuzzy as fuzz\n",
    "import get_predictiondata as gp"
   ]
  },
  {
   "cell_type": "code",
   "execution_count": 7,
   "metadata": {
    "collapsed": true
   },
   "outputs": [],
   "source": [
    "# Generate universe variables\n",
    "# humidity cluster range (0, 4) (5 cluster)\n",
    "# peekhour cluster range (0, 2) (3 cluster)\n",
    "# rainfall cluster range (0, 2) (3 cluster)\n",
    "# temperature cluster range(0, 2) (3 cluster)\n",
    "# wind cluster range(0, 3) (4 cluster)\n",
    "# road status range (0, 1) (0 or 1)\n",
    "# road construction range (0, 2) (0 or 1 or 2)\n",
    "# road accedent range (0, 1) (0 or 1)\n",
    "hd = np.arange(0, 5, 1) # humidity\n",
    "ph = np.arange(0, 3, 1) # peekhour\n",
    "rf = np.arange(0, 3, 1) # rainfall\n",
    "tp = np.arange(0, 3, 1) # temp\n",
    "wd = np.arange(0, 4, 1) # wind\n",
    "rs = np.arange(0, 2, 1) # road status\n",
    "rc = np.arange(0, 3, 1) # road construction\n",
    "ra = np.arange(0, 2, 1) # road accident\n",
    "rw = np.arange(0, 7, 1) # road weaight\n",
    "vhl = np.arange(0, 201, 1) # vehicle speed\n",
    "\n",
    "# Generate fuzzy membership functions\n",
    "# humidity Membership Function\n",
    "hd_0 = fuzz.trimf(hd, [0, 0, 0])\n",
    "hd_1 = fuzz.trimf(hd, [0, 1, 1])\n",
    "hd_2 = fuzz.trimf(hd, [1, 2, 2])\n",
    "hd_3 = fuzz.trimf(hd, [2, 3, 3])\n",
    "hd_4 = fuzz.trimf(hd, [3, 4, 4])\n",
    "\n",
    "# peek hour MF\n",
    "ph_0 = fuzz.trimf(ph, [0, 0, 0])\n",
    "ph_1 = fuzz.trimf(ph, [0, 1, 1])\n",
    "ph_2 = fuzz.trimf(ph, [1, 2, 2])\n",
    "\n",
    "# rainfall MF\n",
    "rf_0 = fuzz.trimf(rf, [0, 0, 0])\n",
    "rf_1 = fuzz.trimf(rf, [0, 1, 1])\n",
    "rf_2 = fuzz.trimf(rf, [1, 2, 2])\n",
    "\n",
    "# temperature MF\n",
    "tp_0 = fuzz.trimf(tp, [0, 0, 0])\n",
    "tp_1 = fuzz.trimf(tp, [0, 1, 1])\n",
    "tp_2 = fuzz.trimf(tp, [1, 2, 2])\n",
    "\n",
    "# wind membership function\n",
    "wd_0 = fuzz.trimf(wd, [0, 0, 0])\n",
    "wd_1 = fuzz.trimf(wd, [0, 1, 1])\n",
    "wd_2 = fuzz.trimf(wd, [1, 2, 2])\n",
    "wd_3 = fuzz.trimf(wd, [2, 3, 3])\n",
    "\n",
    "# road status mf\n",
    "rs_0 = fuzz.trimf(rs, [0, 0, 0])\n",
    "rs_1 = fuzz.trimf(rs, [0, 1, 1])\n",
    "\n",
    "# road construction MF\n",
    "rc_0 = fuzz.trimf(rc, [0, 0, 0])\n",
    "rc_1 = fuzz.trimf(rc, [0, 1, 1])\n",
    "rc_2 = fuzz.trimf(rc, [1, 2, 2])\n",
    "\n",
    "# road accident MF\n",
    "ra_0 = fuzz.trimf(ra, [0, 0, 0])\n",
    "ra_1 = fuzz.trimf(ra, [0, 1, 1])\n",
    "\n",
    "# road weight MF\n",
    "#rweight = fuzz.trimf(rw, [0, 3, 6])\n",
    "rweight_0 = fuzz.trimf(rw, [0, 0, 0])\n",
    "rweight_1 = fuzz.trimf(rw, [0, 1, 1])\n",
    "rweight_2 = fuzz.trimf(rw, [1, 2, 2])\n",
    "rweight_3 = fuzz.trimf(rw, [2, 3, 3])\n",
    "rweight_4 = fuzz.trimf(rw, [3, 4, 4])\n",
    "rweight_5 = fuzz.trimf(rw, [4, 5, 5])\n",
    "rweight_6 = fuzz.trimf(rw, [5, 6, 6])\n",
    "\n",
    "# vehicle MF\n",
    "vhl_0 = fuzz.trimf(vhl, [0, 0, 10])\n",
    "vhl_1 = fuzz.trimf(vhl, [10, 10, 30])\n",
    "vhl_2 = fuzz.trimf(vhl, [30, 30, 200])"
   ]
  },
  {
   "cell_type": "code",
   "execution_count": 11,
   "metadata": {
    "collapsed": false
   },
   "outputs": [
    {
     "name": "stdout",
     "output_type": "stream",
     "text": [
      "0\n"
     ]
    }
   ],
   "source": [
    "hd_mem, ph_mem, rf_mem, tp_mem, wd_mem, rs_v, rc_v, ra_v, vhl_v = gp.get_newdata()\n",
    "print (hd_mem)"
   ]
  },
  {
   "cell_type": "code",
   "execution_count": 15,
   "metadata": {
    "collapsed": false
   },
   "outputs": [
    {
     "name": "stdout",
     "output_type": "stream",
     "text": [
      "[ 1.          0.          0.          0.          0.          1.          0.\n",
      "  0.          1.          0.          0.          1.          0.          0.\n",
      "  1.          0.          0.          0.          1.          0.          1.\n",
      "  0.          0.          1.          0.          0.          0.\n",
      "  0.64705882]\n"
     ]
    }
   ],
   "source": [
    "# fuzz.inter_membership\n",
    "# activation of membership function\n",
    "interp = np.array([])\n",
    "# for humidity interp mf\n",
    "hd_level_0 = fuzz.interp_membership(hd, hd_0, hd_mem)\n",
    "hd_level_1 = fuzz.interp_membership(hd, hd_1, hd_mem)\n",
    "hd_level_2 = fuzz.interp_membership(hd, hd_2, hd_mem)\n",
    "hd_level_3 = fuzz.interp_membership(hd, hd_3, hd_mem)\n",
    "hd_level_4 = fuzz.interp_membership(hd, hd_4, hd_mem)\n",
    "    \n",
    "interp = (np.append(interp, [hd_level_0, hd_level_1, hd_level_2, \n",
    "                                    hd_level_3, hd_level_4]))\n",
    "# for peek hour interp mf\n",
    "ph_level_0 = fuzz.interp_membership(ph, ph_0, ph_mem)\n",
    "ph_level_1 = fuzz.interp_membership(ph, ph_1, ph_mem)\n",
    "ph_level_2 = fuzz.interp_membership(ph, ph_2, ph_mem)\n",
    "\n",
    "interp = np.append(interp, [ph_level_0, ph_level_1, ph_level_2])\n",
    "# rainfall interp mf\n",
    "rf_level_0 = fuzz.interp_membership(rf, rf_0, rf_mem)\n",
    "rf_level_1 = fuzz.interp_membership(rf, rf_1, rf_mem)\n",
    "rf_level_2 = fuzz.interp_membership(rf, rf_2, rf_mem)\n",
    "\n",
    "interp = np.append(interp, [rf_level_0, rf_level_1, rf_level_2])\n",
    "# temperature interp mf\n",
    "tp_level_0 = fuzz.interp_membership(tp, tp_0, tp_mem)\n",
    "tp_level_1 = fuzz.interp_membership(tp, tp_1, tp_mem)\n",
    "tp_level_2 = fuzz.interp_membership(tp, tp_2, tp_mem)\n",
    "    \n",
    "interp = np.append(interp, [tp_level_0, tp_level_1, tp_level_2])\n",
    "# wind interp mf\n",
    "wd_level_0 = fuzz.interp_membership(wd, wd_0, wd_mem)\n",
    "wd_level_1 = fuzz.interp_membership(wd, wd_1, wd_mem)\n",
    "wd_level_2 = fuzz.interp_membership(wd, wd_2, wd_mem)\n",
    "wd_level_3 = fuzz.interp_membership(wd, wd_3, wd_mem)\n",
    "\n",
    "interp = np.append(interp, [wd_level_0, wd_level_1, wd_level_2, wd_level_3])\n",
    "# for road status\n",
    "rs_level_0 = fuzz.interp_membership(rs, rs_0, rs_v)\n",
    "rs_level_1 = fuzz.interp_membership(rs, rs_1, rs_v)\n",
    "    \n",
    "interp = np.append(interp, [rs_level_0, rs_level_1])\n",
    "\n",
    "# for road construction\n",
    "rc_level_0 = fuzz.interp_membership(rc, rc_0, rc_v)\n",
    "rc_level_1 = fuzz.interp_membership(rc, rc_1, rc_v)\n",
    "rc_level_2 = fuzz.interp_membership(rc, rc_2, rc_v)\n",
    "\n",
    "interp = np.append(interp, [rc_level_0, rc_level_1, rc_level_2])\n",
    "# for road accedent\n",
    "ra_level_0 = fuzz.interp_membership(ra, ra_0, ra_v)\n",
    "ra_level_1 = fuzz.interp_membership(ra, ra_1, ra_v)\n",
    "\n",
    "interp = np.append(interp, [ra_level_0, ra_level_1])\n",
    "    \n",
    "# for vechile speed\n",
    "vhl_level_0 = fuzz.interp_membership(vhl, vhl_0, vhl_v)\n",
    "vhl_level_1 = fuzz.interp_membership(vhl, vhl_1, vhl_v)\n",
    "vhl_level_2 = fuzz.interp_membership(vhl, vhl_2, vhl_v)\n",
    "\n",
    "interp = np.append(interp, [vhl_level_0, vhl_level_1, vhl_level_2])\n",
    "\n",
    "print (interp)"
   ]
  },
  {
   "cell_type": "code",
   "execution_count": null,
   "metadata": {
    "collapsed": true
   },
   "outputs": [],
   "source": []
  }
 ],
 "metadata": {
  "kernelspec": {
   "display_name": "Python 3",
   "language": "python",
   "name": "python3"
  },
  "language_info": {
   "codemirror_mode": {
    "name": "ipython",
    "version": 3
   },
   "file_extension": ".py",
   "mimetype": "text/x-python",
   "name": "python",
   "nbconvert_exporter": "python",
   "pygments_lexer": "ipython3",
   "version": "3.5.2"
  }
 },
 "nbformat": 4,
 "nbformat_minor": 2
}
