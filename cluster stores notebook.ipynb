{
 "cells": [
  {
   "cell_type": "code",
   "execution_count": 1,
   "metadata": {
    "collapsed": true
   },
   "outputs": [],
   "source": [
    "from __future__ import print_function\n",
    "import numpy as np\n",
    "import pandas as pd\n",
    "import weather_pca_c_means as cm"
   ]
  },
  {
   "cell_type": "code",
   "execution_count": 3,
   "metadata": {
    "collapsed": false
   },
   "outputs": [],
   "source": [
    "cleandata_df = cm.cleandata_df\n",
    "\n",
    "humidity_membership, hdcntr, hcntr = cm.c_mean_humidity_clustering()\n",
    "peekhour_membership, phcntr, pcntr = cm.c_mean_peekhour_clustering()\n",
    "rainfall_membership, rfcntr, rcntr = cm.c_mean_rainfall_clustering()\n",
    "temp_membership, tpcntr, tcntr = cm.c_mean_temp_clustering()\n",
    "wind_membership, wdcntr, wcntr = cm.c_mean_wind_clustering()"
   ]
  },
  {
   "cell_type": "code",
   "execution_count": 8,
   "metadata": {
    "collapsed": false
   },
   "outputs": [],
   "source": [
    "###NEVER RUN THIS CELL! IT MAY CHANGE CLUSTER CENTER POINT AND CREATE AMBIGUAS \n",
    "####STITUATION FOR PREDICTION\n",
    "np.savetxt('humidity_cntr.txt', hcntr, delimiter=',')\n",
    "np.savetxt('peekhour_cntr.txt', pcntr, delimiter=',')\n",
    "np.savetxt('rainfall_cntr.txt', rcntr, delimiter=',')\n",
    "np.savetxt('temp_cntr.txt', tcntr, delimiter=',')\n",
    "np.savetxt('wind_cntr.txt', wcntr, delimiter=',')\n"
   ]
  },
  {
   "cell_type": "code",
   "execution_count": 9,
   "metadata": {
    "collapsed": true
   },
   "outputs": [],
   "source": [
    "hd_cluster_store0 = np.array([]) # humidity\n",
    "hd_cluster_store1 = np.array([]) # humidity\n",
    "hd_cluster_store2 = np.array([]) # humidity\n",
    "hd_cluster_store3 = np.array([]) # humidity\n",
    "hd_cluster_store4 = np.array([]) # humidity\n",
    "\n",
    "ph_cluster_store0 = np.array([]) # peek hour\n",
    "ph_cluster_store1 = np.array([]) # peek hour\n",
    "ph_cluster_store2 = np.array([]) # peek hour\n",
    "\n",
    "rf_cluster_store0 = np.array([]) # rainfall\n",
    "rf_cluster_store1 = np.array([]) # rainfall\n",
    "rf_cluster_store2 = np.array([]) # rainfall\n",
    "\n",
    "tp_cluster_store0 = np.array([]) # temperature\n",
    "tp_cluster_store1 = np.array([]) # temperature\n",
    "tp_cluster_store2 = np.array([]) # temperature\n",
    "\n",
    "wd_cluster_store0 = np.array([]) # wind\n",
    "wd_cluster_store1 = np.array([]) # wind\n",
    "wd_cluster_store2 = np.array([]) # wind\n",
    "wd_cluster_store3 = np.array([]) # wind"
   ]
  },
  {
   "cell_type": "code",
   "execution_count": 10,
   "metadata": {
    "collapsed": true
   },
   "outputs": [],
   "source": [
    "hd, ph, rf, tp, wd = (cleandata_df['humidity'].values, cleandata_df['peek_hour'].values,\n",
    "                        cleandata_df['rainfall'].values, cleandata_df['temp'].values,\n",
    "                      cleandata_df['wind'].values)"
   ]
  },
  {
   "cell_type": "code",
   "execution_count": 11,
   "metadata": {
    "collapsed": true
   },
   "outputs": [],
   "source": [
    "for i in range(0, 682):\n",
    "    if humidity_membership[i] == 0:\n",
    "        hd_cluster_store0 = np.append(hd_cluster_store0, hd[i])\n",
    "\n",
    "    elif humidity_membership[i] == 1:\n",
    "        hd_cluster_store1 = np.append(hd_cluster_store1, hd[i])\n",
    "    elif humidity_membership[i] == 2:\n",
    "        hd_cluster_store2 = np.append(hd_cluster_store2, hd[i])\n",
    "    elif humidity_membership[i] == 3:\n",
    "        hd_cluster_store3 = np.append(hd_cluster_store3, hd[i])\n",
    "    elif humidity_membership[i] == 4:\n",
    "        hd_cluster_store4 = np.append(hd_cluster_store4, hd[i])\n",
    "\n",
    "    if peekhour_membership[i] == 0:\n",
    "        ph_cluster_store0 = np.append(ph_cluster_store0, ph[i])\n",
    "    elif peekhour_membership[i] == 1:\n",
    "        ph_cluster_store1 = np.append(ph_cluster_store1, ph[i])\n",
    "    elif peekhour_membership[i] == 2:\n",
    "        ph_cluster_store2 = np.append(ph_cluster_store2, ph[i])\n",
    "\n",
    "\n",
    "    if rainfall_membership[i] ==0 :\n",
    "        rf_cluster_store0 = np.append(rf_cluster_store0, rf[i])\n",
    "    elif rainfall_membership[i] ==1 :\n",
    "        rf_cluster_store1 = np.append(rf_cluster_store1, rf[i])\n",
    "    elif rainfall_membership[i] ==2 :\n",
    "        rf_cluster_store2 = np.append(rf_cluster_store2, rf[i])\n",
    "\n",
    "\n",
    "    if temp_membership[i] == 0:\n",
    "        tp_cluster_store0 = np.append(tp_cluster_store0, tp[i])\n",
    "    elif temp_membership[i] == 1:\n",
    "        tp_cluster_store1 = np.append(tp_cluster_store1, tp[i])\n",
    "    elif temp_membership[i] == 2:\n",
    "        tp_cluster_store2 = np.append(tp_cluster_store2, tp[i])\n",
    "\n",
    "    if wind_membership[i] == 0:\n",
    "        wd_cluster_store0 = np.append(wd_cluster_store0, wd[i])\n",
    "    if wind_membership[i] == 1:\n",
    "        wd_cluster_store1 = np.append(wd_cluster_store1, wd[i])\n",
    "    if wind_membership[i] == 2:\n",
    "        wd_cluster_store2 = np.append(wd_cluster_store2, wd[i])\n",
    "    if wind_membership[i] == 3:\n",
    "        wd_cluster_store3 = np.append(wd_cluster_store3, wd[i])"
   ]
  },
  {
   "cell_type": "code",
   "execution_count": 12,
   "metadata": {
    "collapsed": false
   },
   "outputs": [
    {
     "name": "stdout",
     "output_type": "stream",
     "text": [
      "Humidity Cluster :\n",
      "Cluster 0 items :  (192,)\n",
      "min :  63.0 max :  71.0\n",
      "Cluster 1 items :  (174,)\n",
      "min :  72.0 max :  81.0\n",
      "Cluster 2 items :  (63,)\n",
      "min :  32.0 max :  51.0\n",
      "Cluster 3 items :  (109,)\n",
      "min :  82.0 max :  95.0\n",
      "Cluster 4 items :  (144,)\n",
      "min :  52.0 max :  62.0\n",
      "\n",
      "\n",
      "Peek Hour Cluster :\n",
      "Cluster 0 items :  (284,)\n",
      "min :  78.0 max :  129.0\n",
      "Cluster 1 items :  (111,)\n",
      "min :  8.0 max :  38.0\n",
      "Cluster 2 items :  (287,)\n",
      "min :  39.0 max :  77.0\n",
      "\n",
      "\n",
      "RainFall Cluster :\n",
      "Cluster 0 items :  (608,)\n",
      "min :  0.0 max :  4.0\n",
      "Cluster 1 items :  (42,)\n",
      "min :  5.0 max :  15.0\n",
      "Cluster 2 items :  (32,)\n",
      "min :  17.0 max :  30.0\n",
      "\n",
      "\n",
      "Temperature Cluster :\n",
      "Cluster 0 items :  (208,)\n",
      "min :  22.0 max :  26.0\n",
      "Cluster 1 items :  (334,)\n",
      "min :  27.0 max :  34.0\n",
      "Cluster 2 items :  (140,)\n",
      "min :  13.0 max :  21.0\n",
      "\n",
      "\n",
      "Wind Cluster :\n",
      "Cluster 0 items :  (64,)\n",
      "min :  8.0 max :  15.0\n",
      "Cluster 1 items :  (210,)\n",
      "min :  2.0 max :  4.0\n",
      "Cluster 2 items :  (304,)\n",
      "min :  0.0 max :  1.0\n",
      "Cluster 3 items :  (104,)\n",
      "min :  5.0 max :  7.0\n"
     ]
    }
   ],
   "source": [
    "print ('Humidity Cluster :')\n",
    "print ('Cluster 0 items : ', hd_cluster_store0.shape)\n",
    "print ('min : ', hd_cluster_store0.min(), 'max : ', hd_cluster_store0.max())\n",
    "print ('Cluster 1 items : ', hd_cluster_store1.shape)\n",
    "print ('min : ', hd_cluster_store1.min(), 'max : ', hd_cluster_store1.max())\n",
    "print ('Cluster 2 items : ', hd_cluster_store2.shape)\n",
    "print ('min : ', hd_cluster_store2.min(), 'max : ', hd_cluster_store2.max())\n",
    "print ('Cluster 3 items : ', hd_cluster_store3.shape)\n",
    "print ('min : ', hd_cluster_store3.min(), 'max : ', hd_cluster_store3.max())\n",
    "print ('Cluster 4 items : ', hd_cluster_store4.shape)\n",
    "print ('min : ', hd_cluster_store4.min(), 'max : ', hd_cluster_store4.max())\n",
    "\n",
    "\n",
    "print ('\\n\\nPeek Hour Cluster :')\n",
    "print ('Cluster 0 items : ', ph_cluster_store0.shape)\n",
    "print ('min : ', ph_cluster_store0.min(), 'max : ', ph_cluster_store0.max())\n",
    "print ('Cluster 1 items : ', ph_cluster_store1.shape)\n",
    "print ('min : ', ph_cluster_store1.min(), 'max : ', ph_cluster_store1.max())\n",
    "print ('Cluster 2 items : ', ph_cluster_store2.shape)\n",
    "print ('min : ', ph_cluster_store2.min(), 'max : ', ph_cluster_store2.max())\n",
    "\n",
    "print ('\\n\\nRainFall Cluster :')\n",
    "print ('Cluster 0 items : ', rf_cluster_store0.shape)\n",
    "print ('min : ', rf_cluster_store0.min(), 'max : ', rf_cluster_store0.max())\n",
    "print ('Cluster 1 items : ', rf_cluster_store1.shape)\n",
    "print ('min : ', rf_cluster_store1.min(), 'max : ', rf_cluster_store1.max())\n",
    "print ('Cluster 2 items : ', rf_cluster_store2.shape)\n",
    "print ('min : ', rf_cluster_store2.min(), 'max : ', rf_cluster_store2.max())\n",
    "\n",
    "\n",
    "print ('\\n\\nTemperature Cluster :')\n",
    "print ('Cluster 0 items : ', tp_cluster_store0.shape)\n",
    "print ('min : ', tp_cluster_store0.min(), 'max : ', tp_cluster_store0.max())\n",
    "print ('Cluster 1 items : ', tp_cluster_store1.shape)\n",
    "print ('min : ', tp_cluster_store1.min(), 'max : ', tp_cluster_store1.max())\n",
    "print ('Cluster 2 items : ', tp_cluster_store2.shape)\n",
    "print ('min : ', tp_cluster_store2.min(), 'max : ', tp_cluster_store2.max())\n",
    "\n",
    "\n",
    "print ('\\n\\nWind Cluster :')\n",
    "print ('Cluster 0 items : ', wd_cluster_store0.shape)\n",
    "print ('min : ', wd_cluster_store0.min(), 'max : ', wd_cluster_store0.max())\n",
    "print ('Cluster 1 items : ', wd_cluster_store1.shape)\n",
    "print ('min : ', wd_cluster_store1.min(), 'max : ', wd_cluster_store1.max())\n",
    "print ('Cluster 2 items : ', wd_cluster_store2.shape)\n",
    "print ('min : ', wd_cluster_store2.min(), 'max : ', wd_cluster_store2.max())\n",
    "print ('Cluster 3 items : ', wd_cluster_store3.shape)\n",
    "print ('min : ', wd_cluster_store3.min(), 'max : ', wd_cluster_store3.max())"
   ]
  },
  {
   "cell_type": "code",
   "execution_count": null,
   "metadata": {
    "collapsed": true
   },
   "outputs": [],
   "source": []
  }
 ],
 "metadata": {
  "kernelspec": {
   "display_name": "Python 3",
   "language": "python",
   "name": "python3"
  },
  "language_info": {
   "codemirror_mode": {
    "name": "ipython",
    "version": 3
   },
   "file_extension": ".py",
   "mimetype": "text/x-python",
   "name": "python",
   "nbconvert_exporter": "python",
   "pygments_lexer": "ipython3",
   "version": "3.5.2"
  }
 },
 "nbformat": 4,
 "nbformat_minor": 2
}
