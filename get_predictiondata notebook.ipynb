{
 "cells": [
  {
   "cell_type": "code",
   "execution_count": 1,
   "metadata": {
    "collapsed": true
   },
   "outputs": [],
   "source": [
    "import numpy as np\n",
    "import pandas as pd\n",
    "from numpy import loadtxt\n",
    "import cluster_prediction as cp"
   ]
  },
  {
   "cell_type": "code",
   "execution_count": 4,
   "metadata": {
    "collapsed": true
   },
   "outputs": [],
   "source": [
    "def weather_feture_mf(data): # get membership value for weather feature\n",
    "    hd = cp.predict_humidity(data[0])\n",
    "    ph = cp.predict_peekhour(data[1])\n",
    "    rf = cp.predict_rainfall(data[2])\n",
    "    tp = cp.predict_temp(data[3])\n",
    "    wd = cp.predict_wind(data[4])\n",
    "    all_feature = np.vstack((hd, ph, rf, tp, wd))\n",
    "    \n",
    "    return all_feature"
   ]
  },
  {
   "cell_type": "code",
   "execution_count": 6,
   "metadata": {
    "collapsed": false
   },
   "outputs": [],
   "source": [
    "def get_road_data(data): # collecte road data info\n",
    "    return data"
   ]
  },
  {
   "cell_type": "code",
   "execution_count": 27,
   "metadata": {
    "collapsed": true
   },
   "outputs": [],
   "source": [
    "def get_newdata(): # combine all data\n",
    "    wd_mf = weather_feture_mf([64, 79, 0, 23, 9])\n",
    "    wd_mf = wd_mf.T\n",
    "    wd_mf = wd_mf[0]\n",
    "    rd_mf = get_road_data([0, 0, 0, 90]) # rs, rc, ra, vhl\n",
    "    newdata = np.hstack((wd_mf, rd_mf))\n",
    "    return newdata"
   ]
  },
  {
   "cell_type": "code",
   "execution_count": 29,
   "metadata": {
    "collapsed": false
   },
   "outputs": [
    {
     "name": "stdout",
     "output_type": "stream",
     "text": [
      "[0 0 0 0 0]\n",
      "[0, 0, 0, 90]\n"
     ]
    },
    {
     "data": {
      "text/plain": [
       "array([ 0,  0,  0,  0,  0,  0,  0,  0, 90])"
      ]
     },
     "execution_count": 29,
     "metadata": {},
     "output_type": "execute_result"
    }
   ],
   "source": [
    "get_newdata()"
   ]
  },
  {
   "cell_type": "code",
   "execution_count": null,
   "metadata": {
    "collapsed": true
   },
   "outputs": [],
   "source": []
  }
 ],
 "metadata": {
  "kernelspec": {
   "display_name": "Python 3",
   "language": "python",
   "name": "python3"
  },
  "language_info": {
   "codemirror_mode": {
    "name": "ipython",
    "version": 3
   },
   "file_extension": ".py",
   "mimetype": "text/x-python",
   "name": "python",
   "nbconvert_exporter": "python",
   "pygments_lexer": "ipython3",
   "version": "3.5.2"
  }
 },
 "nbformat": 4,
 "nbformat_minor": 2
}
